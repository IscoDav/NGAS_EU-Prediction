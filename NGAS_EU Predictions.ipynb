{
 "cells": [
  {
   "cell_type": "code",
   "execution_count": 1,
   "metadata": {
    "id": "2V2nvLcn1Wlv"
   },
   "outputs": [],
   "source": [
    "# 1-Reading and getting information about the Data\n"
   ]
  },
  {
   "cell_type": "code",
   "execution_count": 114,
   "metadata": {
    "executionInfo": {
     "elapsed": 446,
     "status": "ok",
     "timestamp": 1640594516353,
     "user": {
      "displayName": "Islombek Davronov",
      "photoUrl": "https://lh3.googleusercontent.com/a-/AOh14GhAh9Ro-vyEfOqZ8MulGMgaEcDpHtTbSkqU83Pw=s64",
      "userId": "05247046816000910520"
     },
     "user_tz": -300
    },
    "id": "37v7P_LkzPwv"
   },
   "outputs": [],
   "source": [
    "import os\n",
    "import numpy as np \n",
    "import pandas as pd\n",
    "from matplotlib import pyplot  \n",
    "import seaborn as sns\n",
    "import matplotlib.pyplot as plt\n",
    "\n",
    "# tells matplotlib to embed plot within the notebook \n",
    "%matplotlib inline \n",
    "\n",
    "df = pd.read_csv('data.csv')"
   ]
  },
  {
   "cell_type": "code",
   "execution_count": 3,
   "metadata": {
    "colab": {
     "base_uri": "https://localhost:8080/",
     "height": 375
    },
    "executionInfo": {
     "elapsed": 10,
     "status": "ok",
     "timestamp": 1640594516354,
     "user": {
      "displayName": "Islombek Davronov",
      "photoUrl": "https://lh3.googleusercontent.com/a-/AOh14GhAh9Ro-vyEfOqZ8MulGMgaEcDpHtTbSkqU83Pw=s64",
      "userId": "05247046816000910520"
     },
     "user_tz": -300
    },
    "id": "HmNgRZATzyFS",
    "outputId": "1cd357bd-701c-414f-f050-067afbca5daa"
   },
   "outputs": [
    {
     "data": {
      "text/html": [
       "<div>\n",
       "<style scoped>\n",
       "    .dataframe tbody tr th:only-of-type {\n",
       "        vertical-align: middle;\n",
       "    }\n",
       "\n",
       "    .dataframe tbody tr th {\n",
       "        vertical-align: top;\n",
       "    }\n",
       "\n",
       "    .dataframe thead th {\n",
       "        text-align: right;\n",
       "    }\n",
       "</style>\n",
       "<table border=\"1\" class=\"dataframe\">\n",
       "  <thead>\n",
       "    <tr style=\"text-align: right;\">\n",
       "      <th></th>\n",
       "      <th>Unnamed: 0</th>\n",
       "      <th>CRUDE_PETRO</th>\n",
       "      <th>CRUDE_BRENT</th>\n",
       "      <th>CRUDE_DUBAI</th>\n",
       "      <th>CRUDE_WTI</th>\n",
       "      <th>COAL_AUS</th>\n",
       "      <th>COAL_SAFRICA</th>\n",
       "      <th>NGAS_US</th>\n",
       "      <th>NGAS_EUR</th>\n",
       "      <th>NGAS_JP</th>\n",
       "      <th>...</th>\n",
       "      <th>ALUMINUM</th>\n",
       "      <th>IRON_ORE</th>\n",
       "      <th>COPPER</th>\n",
       "      <th>LEAD</th>\n",
       "      <th>Tin</th>\n",
       "      <th>NICKEL</th>\n",
       "      <th>Zinc</th>\n",
       "      <th>GOLD</th>\n",
       "      <th>PLATINUM</th>\n",
       "      <th>SILVER</th>\n",
       "    </tr>\n",
       "  </thead>\n",
       "  <tbody>\n",
       "    <tr>\n",
       "      <th>0</th>\n",
       "      <td>1960</td>\n",
       "      <td>1.63</td>\n",
       "      <td>..</td>\n",
       "      <td>1.63</td>\n",
       "      <td>..</td>\n",
       "      <td>..</td>\n",
       "      <td>..</td>\n",
       "      <td>0.14</td>\n",
       "      <td>0.404774</td>\n",
       "      <td>..</td>\n",
       "      <td>...</td>\n",
       "      <td>511.471832</td>\n",
       "      <td>11.42</td>\n",
       "      <td>678.755833</td>\n",
       "      <td>198.850000</td>\n",
       "      <td>2196.733333</td>\n",
       "      <td>1631.000000</td>\n",
       "      <td>246.191667</td>\n",
       "      <td>35.27</td>\n",
       "      <td>83.500000</td>\n",
       "      <td>0.913700</td>\n",
       "    </tr>\n",
       "    <tr>\n",
       "      <th>1</th>\n",
       "      <td>1961</td>\n",
       "      <td>1.57</td>\n",
       "      <td>..</td>\n",
       "      <td>1.57</td>\n",
       "      <td>..</td>\n",
       "      <td>..</td>\n",
       "      <td>..</td>\n",
       "      <td>0.15</td>\n",
       "      <td>0.404774</td>\n",
       "      <td>..</td>\n",
       "      <td>...</td>\n",
       "      <td>511.471832</td>\n",
       "      <td>11.02</td>\n",
       "      <td>633.084167</td>\n",
       "      <td>176.975000</td>\n",
       "      <td>2449.891667</td>\n",
       "      <td>1711.000000</td>\n",
       "      <td>214.308333</td>\n",
       "      <td>35.25</td>\n",
       "      <td>83.500000</td>\n",
       "      <td>0.924442</td>\n",
       "    </tr>\n",
       "    <tr>\n",
       "      <th>2</th>\n",
       "      <td>1962</td>\n",
       "      <td>1.52</td>\n",
       "      <td>..</td>\n",
       "      <td>1.52</td>\n",
       "      <td>..</td>\n",
       "      <td>..</td>\n",
       "      <td>..</td>\n",
       "      <td>0.16</td>\n",
       "      <td>0.404774</td>\n",
       "      <td>..</td>\n",
       "      <td>...</td>\n",
       "      <td>498.060392</td>\n",
       "      <td>11.01</td>\n",
       "      <td>645.143333</td>\n",
       "      <td>155.283333</td>\n",
       "      <td>2471.383333</td>\n",
       "      <td>1761.000000</td>\n",
       "      <td>185.925000</td>\n",
       "      <td>35.23</td>\n",
       "      <td>83.500000</td>\n",
       "      <td>1.083725</td>\n",
       "    </tr>\n",
       "    <tr>\n",
       "      <th>3</th>\n",
       "      <td>1963</td>\n",
       "      <td>1.50</td>\n",
       "      <td>..</td>\n",
       "      <td>1.50</td>\n",
       "      <td>..</td>\n",
       "      <td>..</td>\n",
       "      <td>..</td>\n",
       "      <td>0.16</td>\n",
       "      <td>0.391351</td>\n",
       "      <td>..</td>\n",
       "      <td>...</td>\n",
       "      <td>498.795265</td>\n",
       "      <td>11.02</td>\n",
       "      <td>645.950833</td>\n",
       "      <td>174.808333</td>\n",
       "      <td>2507.733333</td>\n",
       "      <td>1741.666667</td>\n",
       "      <td>211.508333</td>\n",
       "      <td>35.09</td>\n",
       "      <td>80.930833</td>\n",
       "      <td>1.279108</td>\n",
       "    </tr>\n",
       "    <tr>\n",
       "      <th>4</th>\n",
       "      <td>1964</td>\n",
       "      <td>1.45</td>\n",
       "      <td>..</td>\n",
       "      <td>1.45</td>\n",
       "      <td>..</td>\n",
       "      <td>..</td>\n",
       "      <td>..</td>\n",
       "      <td>0.15</td>\n",
       "      <td>0.384150</td>\n",
       "      <td>..</td>\n",
       "      <td>...</td>\n",
       "      <td>525.985631</td>\n",
       "      <td>10.24</td>\n",
       "      <td>969.753333</td>\n",
       "      <td>277.883333</td>\n",
       "      <td>3412.741667</td>\n",
       "      <td>1741.666667</td>\n",
       "      <td>326.491667</td>\n",
       "      <td>35.10</td>\n",
       "      <td>88.480833</td>\n",
       "      <td>1.293000</td>\n",
       "    </tr>\n",
       "  </tbody>\n",
       "</table>\n",
       "<p>5 rows × 70 columns</p>\n",
       "</div>"
      ],
      "text/plain": [
       "   Unnamed: 0  CRUDE_PETRO CRUDE_BRENT  CRUDE_DUBAI CRUDE_WTI COAL_AUS  \\\n",
       "0        1960         1.63          ..         1.63        ..       ..   \n",
       "1        1961         1.57          ..         1.57        ..       ..   \n",
       "2        1962         1.52          ..         1.52        ..       ..   \n",
       "3        1963         1.50          ..         1.50        ..       ..   \n",
       "4        1964         1.45          ..         1.45        ..       ..   \n",
       "\n",
       "  COAL_SAFRICA  NGAS_US  NGAS_EUR NGAS_JP  ...    ALUMINUM  IRON_ORE  \\\n",
       "0           ..     0.14  0.404774      ..  ...  511.471832     11.42   \n",
       "1           ..     0.15  0.404774      ..  ...  511.471832     11.02   \n",
       "2           ..     0.16  0.404774      ..  ...  498.060392     11.01   \n",
       "3           ..     0.16  0.391351      ..  ...  498.795265     11.02   \n",
       "4           ..     0.15  0.384150      ..  ...  525.985631     10.24   \n",
       "\n",
       "       COPPER        LEAD          Tin       NICKEL        Zinc   GOLD  \\\n",
       "0  678.755833  198.850000  2196.733333  1631.000000  246.191667  35.27   \n",
       "1  633.084167  176.975000  2449.891667  1711.000000  214.308333  35.25   \n",
       "2  645.143333  155.283333  2471.383333  1761.000000  185.925000  35.23   \n",
       "3  645.950833  174.808333  2507.733333  1741.666667  211.508333  35.09   \n",
       "4  969.753333  277.883333  3412.741667  1741.666667  326.491667  35.10   \n",
       "\n",
       "    PLATINUM    SILVER  \n",
       "0  83.500000  0.913700  \n",
       "1  83.500000  0.924442  \n",
       "2  83.500000  1.083725  \n",
       "3  80.930833  1.279108  \n",
       "4  88.480833  1.293000  \n",
       "\n",
       "[5 rows x 70 columns]"
      ]
     },
     "execution_count": 3,
     "metadata": {},
     "output_type": "execute_result"
    }
   ],
   "source": [
    "df.head()"
   ]
  },
  {
   "cell_type": "code",
   "execution_count": 4,
   "metadata": {
    "colab": {
     "base_uri": "https://localhost:8080/",
     "height": 287
    },
    "executionInfo": {
     "elapsed": 320,
     "status": "ok",
     "timestamp": 1640594516667,
     "user": {
      "displayName": "Islombek Davronov",
      "photoUrl": "https://lh3.googleusercontent.com/a-/AOh14GhAh9Ro-vyEfOqZ8MulGMgaEcDpHtTbSkqU83Pw=s64",
      "userId": "05247046816000910520"
     },
     "user_tz": -300
    },
    "id": "pXz82heP0FQY",
    "outputId": "cc1e19d9-0e73-4a3b-cb2b-4930d0c2daad"
   },
   "outputs": [
    {
     "data": {
      "text/html": [
       "<div>\n",
       "<style scoped>\n",
       "    .dataframe tbody tr th:only-of-type {\n",
       "        vertical-align: middle;\n",
       "    }\n",
       "\n",
       "    .dataframe tbody tr th {\n",
       "        vertical-align: top;\n",
       "    }\n",
       "\n",
       "    .dataframe thead th {\n",
       "        text-align: right;\n",
       "    }\n",
       "</style>\n",
       "<table border=\"1\" class=\"dataframe\">\n",
       "  <thead>\n",
       "    <tr style=\"text-align: right;\">\n",
       "      <th></th>\n",
       "      <th>Unnamed: 0</th>\n",
       "      <th>CRUDE_PETRO</th>\n",
       "      <th>CRUDE_BRENT</th>\n",
       "      <th>CRUDE_DUBAI</th>\n",
       "      <th>CRUDE_WTI</th>\n",
       "      <th>COAL_AUS</th>\n",
       "      <th>COAL_SAFRICA</th>\n",
       "      <th>NGAS_US</th>\n",
       "      <th>NGAS_EUR</th>\n",
       "      <th>NGAS_JP</th>\n",
       "      <th>...</th>\n",
       "      <th>ALUMINUM</th>\n",
       "      <th>IRON_ORE</th>\n",
       "      <th>COPPER</th>\n",
       "      <th>LEAD</th>\n",
       "      <th>Tin</th>\n",
       "      <th>NICKEL</th>\n",
       "      <th>Zinc</th>\n",
       "      <th>GOLD</th>\n",
       "      <th>PLATINUM</th>\n",
       "      <th>SILVER</th>\n",
       "    </tr>\n",
       "  </thead>\n",
       "  <tbody>\n",
       "    <tr>\n",
       "      <th>55</th>\n",
       "      <td>2015</td>\n",
       "      <td>50.752778</td>\n",
       "      <td>52.37</td>\n",
       "      <td>51.179167</td>\n",
       "      <td>48.70916667</td>\n",
       "      <td>58.93916667</td>\n",
       "      <td>56.70833333</td>\n",
       "      <td>2.613708</td>\n",
       "      <td>6.821183</td>\n",
       "      <td>10.93468742</td>\n",
       "      <td>...</td>\n",
       "      <td>1664.680833</td>\n",
       "      <td>55.854167</td>\n",
       "      <td>5510.456667</td>\n",
       "      <td>1787.819167</td>\n",
       "      <td>16066.63167</td>\n",
       "      <td>11862.635000</td>\n",
       "      <td>1931.678333</td>\n",
       "      <td>1160.663333</td>\n",
       "      <td>1053.203333</td>\n",
       "      <td>15.720667</td>\n",
       "    </tr>\n",
       "    <tr>\n",
       "      <th>56</th>\n",
       "      <td>2016</td>\n",
       "      <td>42.811944</td>\n",
       "      <td>44.0475</td>\n",
       "      <td>41.200833</td>\n",
       "      <td>43.1875</td>\n",
       "      <td>66.12333333</td>\n",
       "      <td>63.94666667</td>\n",
       "      <td>2.492217</td>\n",
       "      <td>4.563423</td>\n",
       "      <td>7.372443958</td>\n",
       "      <td>...</td>\n",
       "      <td>1604.181667</td>\n",
       "      <td>58.424167</td>\n",
       "      <td>4867.897500</td>\n",
       "      <td>1866.653333</td>\n",
       "      <td>17933.76167</td>\n",
       "      <td>9595.179167</td>\n",
       "      <td>2089.975000</td>\n",
       "      <td>1248.988333</td>\n",
       "      <td>987.086667</td>\n",
       "      <td>17.146750</td>\n",
       "    </tr>\n",
       "    <tr>\n",
       "      <th>57</th>\n",
       "      <td>2017</td>\n",
       "      <td>52.805000</td>\n",
       "      <td>54.3925</td>\n",
       "      <td>53.115833</td>\n",
       "      <td>50.90666667</td>\n",
       "      <td>88.51833333</td>\n",
       "      <td>85.14916667</td>\n",
       "      <td>2.961475</td>\n",
       "      <td>5.717043</td>\n",
       "      <td>8.606124194</td>\n",
       "      <td>...</td>\n",
       "      <td>1967.654167</td>\n",
       "      <td>71.760000</td>\n",
       "      <td>6169.940000</td>\n",
       "      <td>2314.665000</td>\n",
       "      <td>20061.16917</td>\n",
       "      <td>10409.635000</td>\n",
       "      <td>2890.866667</td>\n",
       "      <td>1257.559167</td>\n",
       "      <td>948.453333</td>\n",
       "      <td>17.066167</td>\n",
       "    </tr>\n",
       "    <tr>\n",
       "      <th>58</th>\n",
       "      <td>2018</td>\n",
       "      <td>68.347500</td>\n",
       "      <td>71.07166667</td>\n",
       "      <td>69.151667</td>\n",
       "      <td>64.81916667</td>\n",
       "      <td>107.0225</td>\n",
       "      <td>97.64333333</td>\n",
       "      <td>3.155092</td>\n",
       "      <td>7.681680</td>\n",
       "      <td>10.66987582</td>\n",
       "      <td>...</td>\n",
       "      <td>2108.475000</td>\n",
       "      <td>69.751667</td>\n",
       "      <td>6529.798333</td>\n",
       "      <td>2240.435000</td>\n",
       "      <td>20145.20583</td>\n",
       "      <td>13114.064170</td>\n",
       "      <td>2922.379167</td>\n",
       "      <td>1269.226667</td>\n",
       "      <td>879.545833</td>\n",
       "      <td>15.713750</td>\n",
       "    </tr>\n",
       "    <tr>\n",
       "      <th>59</th>\n",
       "      <td>2019</td>\n",
       "      <td>61.407500</td>\n",
       "      <td>64.03166667</td>\n",
       "      <td>63.177500</td>\n",
       "      <td>57.01333333</td>\n",
       "      <td>77.88583333</td>\n",
       "      <td>71.94166667</td>\n",
       "      <td>2.565883</td>\n",
       "      <td>4.802351</td>\n",
       "      <td>10.5643019</td>\n",
       "      <td>...</td>\n",
       "      <td>1794.488333</td>\n",
       "      <td>93.849167</td>\n",
       "      <td>6010.145000</td>\n",
       "      <td>1996.507500</td>\n",
       "      <td>18661.15667</td>\n",
       "      <td>13913.908330</td>\n",
       "      <td>2550.410000</td>\n",
       "      <td>1392.498333</td>\n",
       "      <td>863.989167</td>\n",
       "      <td>16.217583</td>\n",
       "    </tr>\n",
       "  </tbody>\n",
       "</table>\n",
       "<p>5 rows × 70 columns</p>\n",
       "</div>"
      ],
      "text/plain": [
       "    Unnamed: 0  CRUDE_PETRO  CRUDE_BRENT  CRUDE_DUBAI    CRUDE_WTI  \\\n",
       "55        2015    50.752778        52.37    51.179167  48.70916667   \n",
       "56        2016    42.811944      44.0475    41.200833      43.1875   \n",
       "57        2017    52.805000      54.3925    53.115833  50.90666667   \n",
       "58        2018    68.347500  71.07166667    69.151667  64.81916667   \n",
       "59        2019    61.407500  64.03166667    63.177500  57.01333333   \n",
       "\n",
       "       COAL_AUS COAL_SAFRICA   NGAS_US  NGAS_EUR      NGAS_JP  ...  \\\n",
       "55  58.93916667  56.70833333  2.613708  6.821183  10.93468742  ...   \n",
       "56  66.12333333  63.94666667  2.492217  4.563423  7.372443958  ...   \n",
       "57  88.51833333  85.14916667  2.961475  5.717043  8.606124194  ...   \n",
       "58     107.0225  97.64333333  3.155092  7.681680  10.66987582  ...   \n",
       "59  77.88583333  71.94166667  2.565883  4.802351   10.5643019  ...   \n",
       "\n",
       "       ALUMINUM   IRON_ORE       COPPER         LEAD          Tin  \\\n",
       "55  1664.680833  55.854167  5510.456667  1787.819167  16066.63167   \n",
       "56  1604.181667  58.424167  4867.897500  1866.653333  17933.76167   \n",
       "57  1967.654167  71.760000  6169.940000  2314.665000  20061.16917   \n",
       "58  2108.475000  69.751667  6529.798333  2240.435000  20145.20583   \n",
       "59  1794.488333  93.849167  6010.145000  1996.507500  18661.15667   \n",
       "\n",
       "          NICKEL         Zinc         GOLD     PLATINUM     SILVER  \n",
       "55  11862.635000  1931.678333  1160.663333  1053.203333  15.720667  \n",
       "56   9595.179167  2089.975000  1248.988333   987.086667  17.146750  \n",
       "57  10409.635000  2890.866667  1257.559167   948.453333  17.066167  \n",
       "58  13114.064170  2922.379167  1269.226667   879.545833  15.713750  \n",
       "59  13913.908330  2550.410000  1392.498333   863.989167  16.217583  \n",
       "\n",
       "[5 rows x 70 columns]"
      ]
     },
     "execution_count": 4,
     "metadata": {},
     "output_type": "execute_result"
    }
   ],
   "source": [
    "df.tail()"
   ]
  },
  {
   "cell_type": "code",
   "execution_count": 5,
   "metadata": {
    "colab": {
     "base_uri": "https://localhost:8080/"
    },
    "executionInfo": {
     "elapsed": 9,
     "status": "ok",
     "timestamp": 1640594516668,
     "user": {
      "displayName": "Islombek Davronov",
      "photoUrl": "https://lh3.googleusercontent.com/a-/AOh14GhAh9Ro-vyEfOqZ8MulGMgaEcDpHtTbSkqU83Pw=s64",
      "userId": "05247046816000910520"
     },
     "user_tz": -300
    },
    "id": "ZvIQQ0Ea0Np5",
    "outputId": "07fdce2c-452b-4faf-8e0b-b9db365bc6f8"
   },
   "outputs": [
    {
     "name": "stdout",
     "output_type": "stream",
     "text": [
      "<class 'pandas.core.frame.DataFrame'>\n",
      "RangeIndex: 60 entries, 0 to 59\n",
      "Data columns (total 70 columns):\n",
      " #   Column         Non-Null Count  Dtype  \n",
      "---  ------         --------------  -----  \n",
      " 0   Unnamed: 0     60 non-null     int64  \n",
      " 1   CRUDE_PETRO    60 non-null     float64\n",
      " 2   CRUDE_BRENT    60 non-null     object \n",
      " 3   CRUDE_DUBAI    60 non-null     float64\n",
      " 4   CRUDE_WTI      60 non-null     object \n",
      " 5   COAL_AUS       60 non-null     object \n",
      " 6   COAL_SAFRICA   60 non-null     object \n",
      " 7   NGAS_US        60 non-null     float64\n",
      " 8   NGAS_EUR       60 non-null     float64\n",
      " 9   NGAS_JP        60 non-null     object \n",
      " 10  iNATGAS        60 non-null     float64\n",
      " 11  COCOA          60 non-null     float64\n",
      " 12  COFFEE_ARABIC  60 non-null     float64\n",
      " 13  COFFEE_ROBUS   60 non-null     float64\n",
      " 14  TEA_AVG        60 non-null     float64\n",
      " 15  TEA_COLOMBO    60 non-null     float64\n",
      " 16  TEA_KOLKATA    60 non-null     float64\n",
      " 17  TEA_MOMBASA    60 non-null     float64\n",
      " 18  COCONUT_OIL    60 non-null     float64\n",
      " 19  GRNUT          60 non-null     object \n",
      " 20  FISH_MEAL      60 non-null     object \n",
      " 21  GRNUT_OIL      60 non-null     float64\n",
      " 22  PALM_OIL       60 non-null     float64\n",
      " 23  PLMKRNL_OIL    60 non-null     object \n",
      " 24  SOYBEANS       60 non-null     float64\n",
      " 25  SOYBEAN_OIL    60 non-null     float64\n",
      " 26  SOYBEAN_MEAL   60 non-null     float64\n",
      " 27  BARLEY         60 non-null     float64\n",
      " 28  MAIZE          60 non-null     float64\n",
      " 29  SORGHUM        60 non-null     float64\n",
      " 30  RICE_05        60 non-null     float64\n",
      " 31  RICE_25        60 non-null     object \n",
      " 32  RICE_A1        60 non-null     object \n",
      " 33  RICE_05_VNM    60 non-null     object \n",
      " 34  WHEAT_US_SRW   60 non-null     object \n",
      " 35  WHEAT_US_HRW   60 non-null     float64\n",
      " 36  BANANA_EU      60 non-null     object \n",
      " 37  BANANA_US      60 non-null     float64\n",
      " 38  ORANGE         60 non-null     float64\n",
      " 39  BEEF           60 non-null     float64\n",
      " 40  CHICKEN        60 non-null     float64\n",
      " 41  LAMB           60 non-null     object \n",
      " 42  SHRIMP_MEX     60 non-null     float64\n",
      " 43  SUGAR_EU       60 non-null     float64\n",
      " 44  SUGAR_US       60 non-null     float64\n",
      " 45  SUGAR_WLD      60 non-null     float64\n",
      " 46  TOBAC_US       60 non-null     float64\n",
      " 47  LOGS_CMR       60 non-null     object \n",
      " 48  LOGS_MYS       60 non-null     float64\n",
      " 49  SAWNWD_CMR     60 non-null     object \n",
      " 50  SAWNWD_MYS     60 non-null     float64\n",
      " 51  PLYWOOD        60 non-null     object \n",
      " 52  COTTON_A_INDX  60 non-null     float64\n",
      " 53  RUBBER_TSR20   60 non-null     object \n",
      " 54  RUBBER1_MYSG   60 non-null     float64\n",
      " 55  PHOSROCK       60 non-null     float64\n",
      " 56  DAP            60 non-null     float64\n",
      " 57  TSP            60 non-null     float64\n",
      " 58  UREA_EE_BULK   60 non-null     float64\n",
      " 59  POTASH         60 non-null     float64\n",
      " 60  ALUMINUM       60 non-null     float64\n",
      " 61  IRON_ORE       60 non-null     float64\n",
      " 62  COPPER         60 non-null     float64\n",
      " 63  LEAD           60 non-null     float64\n",
      " 64  Tin            60 non-null     float64\n",
      " 65  NICKEL         60 non-null     float64\n",
      " 66  Zinc           60 non-null     float64\n",
      " 67  GOLD           60 non-null     float64\n",
      " 68  PLATINUM       60 non-null     float64\n",
      " 69  SILVER         60 non-null     float64\n",
      "dtypes: float64(51), int64(1), object(18)\n",
      "memory usage: 32.9+ KB\n"
     ]
    }
   ],
   "source": [
    "df.info()"
   ]
  },
  {
   "cell_type": "code",
   "execution_count": 6,
   "metadata": {
    "colab": {
     "base_uri": "https://localhost:8080/",
     "height": 381
    },
    "executionInfo": {
     "elapsed": 411,
     "status": "ok",
     "timestamp": 1640594517073,
     "user": {
      "displayName": "Islombek Davronov",
      "photoUrl": "https://lh3.googleusercontent.com/a-/AOh14GhAh9Ro-vyEfOqZ8MulGMgaEcDpHtTbSkqU83Pw=s64",
      "userId": "05247046816000910520"
     },
     "user_tz": -300
    },
    "id": "ocC2Xk2e0tja",
    "outputId": "967d3911-726d-446b-a235-83aaae5dfcbf"
   },
   "outputs": [
    {
     "data": {
      "text/html": [
       "<div>\n",
       "<style scoped>\n",
       "    .dataframe tbody tr th:only-of-type {\n",
       "        vertical-align: middle;\n",
       "    }\n",
       "\n",
       "    .dataframe tbody tr th {\n",
       "        vertical-align: top;\n",
       "    }\n",
       "\n",
       "    .dataframe thead th {\n",
       "        text-align: right;\n",
       "    }\n",
       "</style>\n",
       "<table border=\"1\" class=\"dataframe\">\n",
       "  <thead>\n",
       "    <tr style=\"text-align: right;\">\n",
       "      <th></th>\n",
       "      <th>Unnamed: 0</th>\n",
       "      <th>CRUDE_PETRO</th>\n",
       "      <th>CRUDE_DUBAI</th>\n",
       "      <th>NGAS_US</th>\n",
       "      <th>NGAS_EUR</th>\n",
       "      <th>iNATGAS</th>\n",
       "      <th>COCOA</th>\n",
       "      <th>COFFEE_ARABIC</th>\n",
       "      <th>COFFEE_ROBUS</th>\n",
       "      <th>TEA_AVG</th>\n",
       "      <th>...</th>\n",
       "      <th>ALUMINUM</th>\n",
       "      <th>IRON_ORE</th>\n",
       "      <th>COPPER</th>\n",
       "      <th>LEAD</th>\n",
       "      <th>Tin</th>\n",
       "      <th>NICKEL</th>\n",
       "      <th>Zinc</th>\n",
       "      <th>GOLD</th>\n",
       "      <th>PLATINUM</th>\n",
       "      <th>SILVER</th>\n",
       "    </tr>\n",
       "  </thead>\n",
       "  <tbody>\n",
       "    <tr>\n",
       "      <th>count</th>\n",
       "      <td>60.000000</td>\n",
       "      <td>60.000000</td>\n",
       "      <td>60.000000</td>\n",
       "      <td>60.000000</td>\n",
       "      <td>60.000000</td>\n",
       "      <td>60.000000</td>\n",
       "      <td>60.000000</td>\n",
       "      <td>60.000000</td>\n",
       "      <td>60.000000</td>\n",
       "      <td>60.000000</td>\n",
       "      <td>...</td>\n",
       "      <td>60.000000</td>\n",
       "      <td>60.000000</td>\n",
       "      <td>60.000000</td>\n",
       "      <td>60.000000</td>\n",
       "      <td>60.000000</td>\n",
       "      <td>60.000000</td>\n",
       "      <td>60.000000</td>\n",
       "      <td>60.000000</td>\n",
       "      <td>60.000000</td>\n",
       "      <td>60.000000</td>\n",
       "    </tr>\n",
       "    <tr>\n",
       "      <th>mean</th>\n",
       "      <td>1989.500000</td>\n",
       "      <td>30.082080</td>\n",
       "      <td>29.333050</td>\n",
       "      <td>2.316771</td>\n",
       "      <td>3.784591</td>\n",
       "      <td>49.290828</td>\n",
       "      <td>1.696304</td>\n",
       "      <td>2.480949</td>\n",
       "      <td>1.717483</td>\n",
       "      <td>1.721169</td>\n",
       "      <td>...</td>\n",
       "      <td>1367.271687</td>\n",
       "      <td>41.951018</td>\n",
       "      <td>2873.296856</td>\n",
       "      <td>862.258744</td>\n",
       "      <td>9482.989951</td>\n",
       "      <td>8434.341159</td>\n",
       "      <td>1141.416872</td>\n",
       "      <td>467.746266</td>\n",
       "      <td>552.916669</td>\n",
       "      <td>8.205859</td>\n",
       "    </tr>\n",
       "    <tr>\n",
       "      <th>std</th>\n",
       "      <td>17.464249</td>\n",
       "      <td>29.489431</td>\n",
       "      <td>29.706835</td>\n",
       "      <td>2.103466</td>\n",
       "      <td>3.248478</td>\n",
       "      <td>41.155969</td>\n",
       "      <td>0.876569</td>\n",
       "      <td>1.232840</td>\n",
       "      <td>0.924673</td>\n",
       "      <td>0.681574</td>\n",
       "      <td>...</td>\n",
       "      <td>608.783072</td>\n",
       "      <td>39.949848</td>\n",
       "      <td>2255.497495</td>\n",
       "      <td>707.803083</td>\n",
       "      <td>6344.468098</td>\n",
       "      <td>6929.208674</td>\n",
       "      <td>789.932675</td>\n",
       "      <td>448.226172</td>\n",
       "      <td>458.056705</td>\n",
       "      <td>7.466940</td>\n",
       "    </tr>\n",
       "    <tr>\n",
       "      <th>min</th>\n",
       "      <td>1960.000000</td>\n",
       "      <td>1.210000</td>\n",
       "      <td>1.210000</td>\n",
       "      <td>0.140000</td>\n",
       "      <td>0.384150</td>\n",
       "      <td>3.624357</td>\n",
       "      <td>0.365308</td>\n",
       "      <td>0.805742</td>\n",
       "      <td>0.607175</td>\n",
       "      <td>0.726200</td>\n",
       "      <td>...</td>\n",
       "      <td>498.060392</td>\n",
       "      <td>8.770000</td>\n",
       "      <td>633.084167</td>\n",
       "      <td>155.283333</td>\n",
       "      <td>2196.733333</td>\n",
       "      <td>1631.000000</td>\n",
       "      <td>185.925000</td>\n",
       "      <td>34.950000</td>\n",
       "      <td>80.930833</td>\n",
       "      <td>0.913700</td>\n",
       "    </tr>\n",
       "    <tr>\n",
       "      <th>25%</th>\n",
       "      <td>1974.750000</td>\n",
       "      <td>10.839375</td>\n",
       "      <td>10.839375</td>\n",
       "      <td>0.395000</td>\n",
       "      <td>1.718023</td>\n",
       "      <td>12.850195</td>\n",
       "      <td>1.091858</td>\n",
       "      <td>1.373367</td>\n",
       "      <td>0.913423</td>\n",
       "      <td>1.130056</td>\n",
       "      <td>...</td>\n",
       "      <td>842.532283</td>\n",
       "      <td>16.320000</td>\n",
       "      <td>1394.891667</td>\n",
       "      <td>406.287500</td>\n",
       "      <td>4722.760417</td>\n",
       "      <td>3867.243750</td>\n",
       "      <td>682.041667</td>\n",
       "      <td>141.994583</td>\n",
       "      <td>159.316042</td>\n",
       "      <td>4.025021</td>\n",
       "    </tr>\n",
       "    <tr>\n",
       "      <th>50%</th>\n",
       "      <td>1989.500000</td>\n",
       "      <td>19.270938</td>\n",
       "      <td>17.642292</td>\n",
       "      <td>1.959167</td>\n",
       "      <td>2.832083</td>\n",
       "      <td>40.305669</td>\n",
       "      <td>1.588251</td>\n",
       "      <td>2.613190</td>\n",
       "      <td>1.649889</td>\n",
       "      <td>1.649153</td>\n",
       "      <td>...</td>\n",
       "      <td>1396.191875</td>\n",
       "      <td>28.235000</td>\n",
       "      <td>1799.413750</td>\n",
       "      <td>552.691667</td>\n",
       "      <td>6770.704166</td>\n",
       "      <td>5998.613750</td>\n",
       "      <td>941.958333</td>\n",
       "      <td>361.330000</td>\n",
       "      <td>414.284583</td>\n",
       "      <td>5.250079</td>\n",
       "    </tr>\n",
       "    <tr>\n",
       "      <th>75%</th>\n",
       "      <td>2004.250000</td>\n",
       "      <td>39.003027</td>\n",
       "      <td>37.184583</td>\n",
       "      <td>3.009879</td>\n",
       "      <td>4.572567</td>\n",
       "      <td>70.743302</td>\n",
       "      <td>2.305532</td>\n",
       "      <td>3.250004</td>\n",
       "      <td>2.252963</td>\n",
       "      <td>2.058158</td>\n",
       "      <td>...</td>\n",
       "      <td>1779.806715</td>\n",
       "      <td>42.388542</td>\n",
       "      <td>3121.423479</td>\n",
       "      <td>1034.338625</td>\n",
       "      <td>13720.188940</td>\n",
       "      <td>12175.492292</td>\n",
       "      <td>1548.872354</td>\n",
       "      <td>495.899583</td>\n",
       "      <td>850.009792</td>\n",
       "      <td>11.459521</td>\n",
       "    </tr>\n",
       "    <tr>\n",
       "      <th>max</th>\n",
       "      <td>2019.000000</td>\n",
       "      <td>105.009629</td>\n",
       "      <td>108.904450</td>\n",
       "      <td>8.915673</td>\n",
       "      <td>13.406667</td>\n",
       "      <td>179.777978</td>\n",
       "      <td>3.790067</td>\n",
       "      <td>5.976137</td>\n",
       "      <td>4.932852</td>\n",
       "      <td>3.148479</td>\n",
       "      <td>...</td>\n",
       "      <td>2638.179167</td>\n",
       "      <td>167.754167</td>\n",
       "      <td>8828.187500</td>\n",
       "      <td>2579.985417</td>\n",
       "      <td>26053.675000</td>\n",
       "      <td>37229.806750</td>\n",
       "      <td>3275.291750</td>\n",
       "      <td>1669.517667</td>\n",
       "      <td>1719.481667</td>\n",
       "      <td>35.224117</td>\n",
       "    </tr>\n",
       "  </tbody>\n",
       "</table>\n",
       "<p>8 rows × 52 columns</p>\n",
       "</div>"
      ],
      "text/plain": [
       "        Unnamed: 0  CRUDE_PETRO  CRUDE_DUBAI    NGAS_US   NGAS_EUR  \\\n",
       "count    60.000000    60.000000    60.000000  60.000000  60.000000   \n",
       "mean   1989.500000    30.082080    29.333050   2.316771   3.784591   \n",
       "std      17.464249    29.489431    29.706835   2.103466   3.248478   \n",
       "min    1960.000000     1.210000     1.210000   0.140000   0.384150   \n",
       "25%    1974.750000    10.839375    10.839375   0.395000   1.718023   \n",
       "50%    1989.500000    19.270938    17.642292   1.959167   2.832083   \n",
       "75%    2004.250000    39.003027    37.184583   3.009879   4.572567   \n",
       "max    2019.000000   105.009629   108.904450   8.915673  13.406667   \n",
       "\n",
       "          iNATGAS      COCOA  COFFEE_ARABIC  COFFEE_ROBUS    TEA_AVG  ...  \\\n",
       "count   60.000000  60.000000      60.000000     60.000000  60.000000  ...   \n",
       "mean    49.290828   1.696304       2.480949      1.717483   1.721169  ...   \n",
       "std     41.155969   0.876569       1.232840      0.924673   0.681574  ...   \n",
       "min      3.624357   0.365308       0.805742      0.607175   0.726200  ...   \n",
       "25%     12.850195   1.091858       1.373367      0.913423   1.130056  ...   \n",
       "50%     40.305669   1.588251       2.613190      1.649889   1.649153  ...   \n",
       "75%     70.743302   2.305532       3.250004      2.252963   2.058158  ...   \n",
       "max    179.777978   3.790067       5.976137      4.932852   3.148479  ...   \n",
       "\n",
       "          ALUMINUM    IRON_ORE       COPPER         LEAD           Tin  \\\n",
       "count    60.000000   60.000000    60.000000    60.000000     60.000000   \n",
       "mean   1367.271687   41.951018  2873.296856   862.258744   9482.989951   \n",
       "std     608.783072   39.949848  2255.497495   707.803083   6344.468098   \n",
       "min     498.060392    8.770000   633.084167   155.283333   2196.733333   \n",
       "25%     842.532283   16.320000  1394.891667   406.287500   4722.760417   \n",
       "50%    1396.191875   28.235000  1799.413750   552.691667   6770.704166   \n",
       "75%    1779.806715   42.388542  3121.423479  1034.338625  13720.188940   \n",
       "max    2638.179167  167.754167  8828.187500  2579.985417  26053.675000   \n",
       "\n",
       "             NICKEL         Zinc         GOLD     PLATINUM     SILVER  \n",
       "count     60.000000    60.000000    60.000000    60.000000  60.000000  \n",
       "mean    8434.341159  1141.416872   467.746266   552.916669   8.205859  \n",
       "std     6929.208674   789.932675   448.226172   458.056705   7.466940  \n",
       "min     1631.000000   185.925000    34.950000    80.930833   0.913700  \n",
       "25%     3867.243750   682.041667   141.994583   159.316042   4.025021  \n",
       "50%     5998.613750   941.958333   361.330000   414.284583   5.250079  \n",
       "75%    12175.492292  1548.872354   495.899583   850.009792  11.459521  \n",
       "max    37229.806750  3275.291750  1669.517667  1719.481667  35.224117  \n",
       "\n",
       "[8 rows x 52 columns]"
      ]
     },
     "execution_count": 6,
     "metadata": {},
     "output_type": "execute_result"
    }
   ],
   "source": [
    " df.describe()"
   ]
  },
  {
   "cell_type": "code",
   "execution_count": 7,
   "metadata": {
    "colab": {
     "base_uri": "https://localhost:8080/"
    },
    "executionInfo": {
     "elapsed": 16,
     "status": "ok",
     "timestamp": 1640594517075,
     "user": {
      "displayName": "Islombek Davronov",
      "photoUrl": "https://lh3.googleusercontent.com/a-/AOh14GhAh9Ro-vyEfOqZ8MulGMgaEcDpHtTbSkqU83Pw=s64",
      "userId": "05247046816000910520"
     },
     "user_tz": -300
    },
    "id": "_VTBhHoY1x56",
    "outputId": "207636f5-29e2-45ee-b6ce-70783d8e0b4f"
   },
   "outputs": [
    {
     "data": {
      "text/plain": [
       "(8, 52)"
      ]
     },
     "execution_count": 7,
     "metadata": {},
     "output_type": "execute_result"
    }
   ],
   "source": [
    "df.describe().shape"
   ]
  },
  {
   "cell_type": "markdown",
   "metadata": {
    "id": "9wdUvNO52V0o"
   },
   "source": [
    "### 1.1-Checking for \"NULL\" values"
   ]
  },
  {
   "cell_type": "code",
   "execution_count": 8,
   "metadata": {
    "colab": {
     "base_uri": "https://localhost:8080/"
    },
    "executionInfo": {
     "elapsed": 14,
     "status": "ok",
     "timestamp": 1640594517077,
     "user": {
      "displayName": "Islombek Davronov",
      "photoUrl": "https://lh3.googleusercontent.com/a-/AOh14GhAh9Ro-vyEfOqZ8MulGMgaEcDpHtTbSkqU83Pw=s64",
      "userId": "05247046816000910520"
     },
     "user_tz": -300
    },
    "id": "5NkZKlCS2ayV",
    "outputId": "26838cae-fddd-424d-a721-d25f77a759f1"
   },
   "outputs": [
    {
     "data": {
      "text/plain": [
       "Unnamed: 0     0\n",
       "CRUDE_PETRO    0\n",
       "CRUDE_BRENT    0\n",
       "CRUDE_DUBAI    0\n",
       "CRUDE_WTI      0\n",
       "              ..\n",
       "NICKEL         0\n",
       "Zinc           0\n",
       "GOLD           0\n",
       "PLATINUM       0\n",
       "SILVER         0\n",
       "Length: 70, dtype: int64"
      ]
     },
     "execution_count": 8,
     "metadata": {},
     "output_type": "execute_result"
    }
   ],
   "source": [
    "df.isnull().sum()"
   ]
  },
  {
   "cell_type": "markdown",
   "metadata": {
    "id": "F4fG3K0L2vy5"
   },
   "source": [
    "### 1.2-Data Shape"
   ]
  },
  {
   "cell_type": "code",
   "execution_count": 9,
   "metadata": {
    "colab": {
     "base_uri": "https://localhost:8080/"
    },
    "executionInfo": {
     "elapsed": 13,
     "status": "ok",
     "timestamp": 1640594517078,
     "user": {
      "displayName": "Islombek Davronov",
      "photoUrl": "https://lh3.googleusercontent.com/a-/AOh14GhAh9Ro-vyEfOqZ8MulGMgaEcDpHtTbSkqU83Pw=s64",
      "userId": "05247046816000910520"
     },
     "user_tz": -300
    },
    "id": "JbNh3bXn2kdr",
    "outputId": "fb09a925-eec7-4585-c217-5cfd1ddf1de4"
   },
   "outputs": [
    {
     "data": {
      "text/plain": [
       "(60, 70)"
      ]
     },
     "execution_count": 9,
     "metadata": {},
     "output_type": "execute_result"
    }
   ],
   "source": [
    "df.shape"
   ]
  },
  {
   "cell_type": "markdown",
   "metadata": {
    "id": "3uYWelyl22nN"
   },
   "source": [
    "# 2-Data Cleaning and Preparing"
   ]
  },
  {
   "cell_type": "markdown",
   "metadata": {
    "id": "9hBb5i6u3sxg"
   },
   "source": [
    "### 2.1-Copying original data to another DataFrame  "
   ]
  },
  {
   "cell_type": "code",
   "execution_count": 10,
   "metadata": {
    "colab": {
     "base_uri": "https://localhost:8080/",
     "height": 375
    },
    "executionInfo": {
     "elapsed": 434,
     "status": "ok",
     "timestamp": 1640594517502,
     "user": {
      "displayName": "Islombek Davronov",
      "photoUrl": "https://lh3.googleusercontent.com/a-/AOh14GhAh9Ro-vyEfOqZ8MulGMgaEcDpHtTbSkqU83Pw=s64",
      "userId": "05247046816000910520"
     },
     "user_tz": -300
    },
    "id": "JZxLSUJS3ySd",
    "outputId": "669f2439-aaf4-49cd-8f0f-39b07d73c163"
   },
   "outputs": [
    {
     "data": {
      "text/html": [
       "<div>\n",
       "<style scoped>\n",
       "    .dataframe tbody tr th:only-of-type {\n",
       "        vertical-align: middle;\n",
       "    }\n",
       "\n",
       "    .dataframe tbody tr th {\n",
       "        vertical-align: top;\n",
       "    }\n",
       "\n",
       "    .dataframe thead th {\n",
       "        text-align: right;\n",
       "    }\n",
       "</style>\n",
       "<table border=\"1\" class=\"dataframe\">\n",
       "  <thead>\n",
       "    <tr style=\"text-align: right;\">\n",
       "      <th></th>\n",
       "      <th>Unnamed: 0</th>\n",
       "      <th>CRUDE_PETRO</th>\n",
       "      <th>CRUDE_BRENT</th>\n",
       "      <th>CRUDE_DUBAI</th>\n",
       "      <th>CRUDE_WTI</th>\n",
       "      <th>COAL_AUS</th>\n",
       "      <th>COAL_SAFRICA</th>\n",
       "      <th>NGAS_US</th>\n",
       "      <th>NGAS_EUR</th>\n",
       "      <th>NGAS_JP</th>\n",
       "      <th>...</th>\n",
       "      <th>ALUMINUM</th>\n",
       "      <th>IRON_ORE</th>\n",
       "      <th>COPPER</th>\n",
       "      <th>LEAD</th>\n",
       "      <th>Tin</th>\n",
       "      <th>NICKEL</th>\n",
       "      <th>Zinc</th>\n",
       "      <th>GOLD</th>\n",
       "      <th>PLATINUM</th>\n",
       "      <th>SILVER</th>\n",
       "    </tr>\n",
       "  </thead>\n",
       "  <tbody>\n",
       "    <tr>\n",
       "      <th>0</th>\n",
       "      <td>1960</td>\n",
       "      <td>1.63</td>\n",
       "      <td>..</td>\n",
       "      <td>1.63</td>\n",
       "      <td>..</td>\n",
       "      <td>..</td>\n",
       "      <td>..</td>\n",
       "      <td>0.14</td>\n",
       "      <td>0.404774</td>\n",
       "      <td>..</td>\n",
       "      <td>...</td>\n",
       "      <td>511.471832</td>\n",
       "      <td>11.42</td>\n",
       "      <td>678.755833</td>\n",
       "      <td>198.850000</td>\n",
       "      <td>2196.733333</td>\n",
       "      <td>1631.000000</td>\n",
       "      <td>246.191667</td>\n",
       "      <td>35.27</td>\n",
       "      <td>83.500000</td>\n",
       "      <td>0.913700</td>\n",
       "    </tr>\n",
       "    <tr>\n",
       "      <th>1</th>\n",
       "      <td>1961</td>\n",
       "      <td>1.57</td>\n",
       "      <td>..</td>\n",
       "      <td>1.57</td>\n",
       "      <td>..</td>\n",
       "      <td>..</td>\n",
       "      <td>..</td>\n",
       "      <td>0.15</td>\n",
       "      <td>0.404774</td>\n",
       "      <td>..</td>\n",
       "      <td>...</td>\n",
       "      <td>511.471832</td>\n",
       "      <td>11.02</td>\n",
       "      <td>633.084167</td>\n",
       "      <td>176.975000</td>\n",
       "      <td>2449.891667</td>\n",
       "      <td>1711.000000</td>\n",
       "      <td>214.308333</td>\n",
       "      <td>35.25</td>\n",
       "      <td>83.500000</td>\n",
       "      <td>0.924442</td>\n",
       "    </tr>\n",
       "    <tr>\n",
       "      <th>2</th>\n",
       "      <td>1962</td>\n",
       "      <td>1.52</td>\n",
       "      <td>..</td>\n",
       "      <td>1.52</td>\n",
       "      <td>..</td>\n",
       "      <td>..</td>\n",
       "      <td>..</td>\n",
       "      <td>0.16</td>\n",
       "      <td>0.404774</td>\n",
       "      <td>..</td>\n",
       "      <td>...</td>\n",
       "      <td>498.060392</td>\n",
       "      <td>11.01</td>\n",
       "      <td>645.143333</td>\n",
       "      <td>155.283333</td>\n",
       "      <td>2471.383333</td>\n",
       "      <td>1761.000000</td>\n",
       "      <td>185.925000</td>\n",
       "      <td>35.23</td>\n",
       "      <td>83.500000</td>\n",
       "      <td>1.083725</td>\n",
       "    </tr>\n",
       "    <tr>\n",
       "      <th>3</th>\n",
       "      <td>1963</td>\n",
       "      <td>1.50</td>\n",
       "      <td>..</td>\n",
       "      <td>1.50</td>\n",
       "      <td>..</td>\n",
       "      <td>..</td>\n",
       "      <td>..</td>\n",
       "      <td>0.16</td>\n",
       "      <td>0.391351</td>\n",
       "      <td>..</td>\n",
       "      <td>...</td>\n",
       "      <td>498.795265</td>\n",
       "      <td>11.02</td>\n",
       "      <td>645.950833</td>\n",
       "      <td>174.808333</td>\n",
       "      <td>2507.733333</td>\n",
       "      <td>1741.666667</td>\n",
       "      <td>211.508333</td>\n",
       "      <td>35.09</td>\n",
       "      <td>80.930833</td>\n",
       "      <td>1.279108</td>\n",
       "    </tr>\n",
       "    <tr>\n",
       "      <th>4</th>\n",
       "      <td>1964</td>\n",
       "      <td>1.45</td>\n",
       "      <td>..</td>\n",
       "      <td>1.45</td>\n",
       "      <td>..</td>\n",
       "      <td>..</td>\n",
       "      <td>..</td>\n",
       "      <td>0.15</td>\n",
       "      <td>0.384150</td>\n",
       "      <td>..</td>\n",
       "      <td>...</td>\n",
       "      <td>525.985631</td>\n",
       "      <td>10.24</td>\n",
       "      <td>969.753333</td>\n",
       "      <td>277.883333</td>\n",
       "      <td>3412.741667</td>\n",
       "      <td>1741.666667</td>\n",
       "      <td>326.491667</td>\n",
       "      <td>35.10</td>\n",
       "      <td>88.480833</td>\n",
       "      <td>1.293000</td>\n",
       "    </tr>\n",
       "  </tbody>\n",
       "</table>\n",
       "<p>5 rows × 70 columns</p>\n",
       "</div>"
      ],
      "text/plain": [
       "   Unnamed: 0  CRUDE_PETRO CRUDE_BRENT  CRUDE_DUBAI CRUDE_WTI COAL_AUS  \\\n",
       "0        1960         1.63          ..         1.63        ..       ..   \n",
       "1        1961         1.57          ..         1.57        ..       ..   \n",
       "2        1962         1.52          ..         1.52        ..       ..   \n",
       "3        1963         1.50          ..         1.50        ..       ..   \n",
       "4        1964         1.45          ..         1.45        ..       ..   \n",
       "\n",
       "  COAL_SAFRICA  NGAS_US  NGAS_EUR NGAS_JP  ...    ALUMINUM  IRON_ORE  \\\n",
       "0           ..     0.14  0.404774      ..  ...  511.471832     11.42   \n",
       "1           ..     0.15  0.404774      ..  ...  511.471832     11.02   \n",
       "2           ..     0.16  0.404774      ..  ...  498.060392     11.01   \n",
       "3           ..     0.16  0.391351      ..  ...  498.795265     11.02   \n",
       "4           ..     0.15  0.384150      ..  ...  525.985631     10.24   \n",
       "\n",
       "       COPPER        LEAD          Tin       NICKEL        Zinc   GOLD  \\\n",
       "0  678.755833  198.850000  2196.733333  1631.000000  246.191667  35.27   \n",
       "1  633.084167  176.975000  2449.891667  1711.000000  214.308333  35.25   \n",
       "2  645.143333  155.283333  2471.383333  1761.000000  185.925000  35.23   \n",
       "3  645.950833  174.808333  2507.733333  1741.666667  211.508333  35.09   \n",
       "4  969.753333  277.883333  3412.741667  1741.666667  326.491667  35.10   \n",
       "\n",
       "    PLATINUM    SILVER  \n",
       "0  83.500000  0.913700  \n",
       "1  83.500000  0.924442  \n",
       "2  83.500000  1.083725  \n",
       "3  80.930833  1.279108  \n",
       "4  88.480833  1.293000  \n",
       "\n",
       "[5 rows x 70 columns]"
      ]
     },
     "execution_count": 10,
     "metadata": {},
     "output_type": "execute_result"
    }
   ],
   "source": [
    "df2 = df.copy()\n",
    "\n",
    "df2.head()"
   ]
  },
  {
   "cell_type": "markdown",
   "metadata": {
    "id": "lTuXtskw4zLH"
   },
   "source": [
    "### 2.2-Replacing \"..\" values to \"NaN\""
   ]
  },
  {
   "cell_type": "code",
   "execution_count": 11,
   "metadata": {
    "executionInfo": {
     "elapsed": 10,
     "status": "ok",
     "timestamp": 1640594517503,
     "user": {
      "displayName": "Islombek Davronov",
      "photoUrl": "https://lh3.googleusercontent.com/a-/AOh14GhAh9Ro-vyEfOqZ8MulGMgaEcDpHtTbSkqU83Pw=s64",
      "userId": "05247046816000910520"
     },
     "user_tz": -300
    },
    "id": "wpMUaVsx46Qr"
   },
   "outputs": [],
   "source": [
    "df2 = df2.replace({'..':np.nan})"
   ]
  },
  {
   "cell_type": "code",
   "execution_count": 12,
   "metadata": {
    "colab": {
     "base_uri": "https://localhost:8080/",
     "height": 375
    },
    "executionInfo": {
     "elapsed": 469,
     "status": "ok",
     "timestamp": 1640594517963,
     "user": {
      "displayName": "Islombek Davronov",
      "photoUrl": "https://lh3.googleusercontent.com/a-/AOh14GhAh9Ro-vyEfOqZ8MulGMgaEcDpHtTbSkqU83Pw=s64",
      "userId": "05247046816000910520"
     },
     "user_tz": -300
    },
    "id": "ehTQhi6n5SVu",
    "outputId": "835b0748-fe33-489b-8a0b-171d8f7d458c"
   },
   "outputs": [
    {
     "data": {
      "text/html": [
       "<div>\n",
       "<style scoped>\n",
       "    .dataframe tbody tr th:only-of-type {\n",
       "        vertical-align: middle;\n",
       "    }\n",
       "\n",
       "    .dataframe tbody tr th {\n",
       "        vertical-align: top;\n",
       "    }\n",
       "\n",
       "    .dataframe thead th {\n",
       "        text-align: right;\n",
       "    }\n",
       "</style>\n",
       "<table border=\"1\" class=\"dataframe\">\n",
       "  <thead>\n",
       "    <tr style=\"text-align: right;\">\n",
       "      <th></th>\n",
       "      <th>Unnamed: 0</th>\n",
       "      <th>CRUDE_PETRO</th>\n",
       "      <th>CRUDE_BRENT</th>\n",
       "      <th>CRUDE_DUBAI</th>\n",
       "      <th>CRUDE_WTI</th>\n",
       "      <th>COAL_AUS</th>\n",
       "      <th>COAL_SAFRICA</th>\n",
       "      <th>NGAS_US</th>\n",
       "      <th>NGAS_EUR</th>\n",
       "      <th>NGAS_JP</th>\n",
       "      <th>...</th>\n",
       "      <th>ALUMINUM</th>\n",
       "      <th>IRON_ORE</th>\n",
       "      <th>COPPER</th>\n",
       "      <th>LEAD</th>\n",
       "      <th>Tin</th>\n",
       "      <th>NICKEL</th>\n",
       "      <th>Zinc</th>\n",
       "      <th>GOLD</th>\n",
       "      <th>PLATINUM</th>\n",
       "      <th>SILVER</th>\n",
       "    </tr>\n",
       "  </thead>\n",
       "  <tbody>\n",
       "    <tr>\n",
       "      <th>0</th>\n",
       "      <td>1960</td>\n",
       "      <td>1.63</td>\n",
       "      <td>NaN</td>\n",
       "      <td>1.63</td>\n",
       "      <td>NaN</td>\n",
       "      <td>NaN</td>\n",
       "      <td>NaN</td>\n",
       "      <td>0.14</td>\n",
       "      <td>0.404774</td>\n",
       "      <td>NaN</td>\n",
       "      <td>...</td>\n",
       "      <td>511.471832</td>\n",
       "      <td>11.42</td>\n",
       "      <td>678.755833</td>\n",
       "      <td>198.850000</td>\n",
       "      <td>2196.733333</td>\n",
       "      <td>1631.000000</td>\n",
       "      <td>246.191667</td>\n",
       "      <td>35.27</td>\n",
       "      <td>83.500000</td>\n",
       "      <td>0.913700</td>\n",
       "    </tr>\n",
       "    <tr>\n",
       "      <th>1</th>\n",
       "      <td>1961</td>\n",
       "      <td>1.57</td>\n",
       "      <td>NaN</td>\n",
       "      <td>1.57</td>\n",
       "      <td>NaN</td>\n",
       "      <td>NaN</td>\n",
       "      <td>NaN</td>\n",
       "      <td>0.15</td>\n",
       "      <td>0.404774</td>\n",
       "      <td>NaN</td>\n",
       "      <td>...</td>\n",
       "      <td>511.471832</td>\n",
       "      <td>11.02</td>\n",
       "      <td>633.084167</td>\n",
       "      <td>176.975000</td>\n",
       "      <td>2449.891667</td>\n",
       "      <td>1711.000000</td>\n",
       "      <td>214.308333</td>\n",
       "      <td>35.25</td>\n",
       "      <td>83.500000</td>\n",
       "      <td>0.924442</td>\n",
       "    </tr>\n",
       "    <tr>\n",
       "      <th>2</th>\n",
       "      <td>1962</td>\n",
       "      <td>1.52</td>\n",
       "      <td>NaN</td>\n",
       "      <td>1.52</td>\n",
       "      <td>NaN</td>\n",
       "      <td>NaN</td>\n",
       "      <td>NaN</td>\n",
       "      <td>0.16</td>\n",
       "      <td>0.404774</td>\n",
       "      <td>NaN</td>\n",
       "      <td>...</td>\n",
       "      <td>498.060392</td>\n",
       "      <td>11.01</td>\n",
       "      <td>645.143333</td>\n",
       "      <td>155.283333</td>\n",
       "      <td>2471.383333</td>\n",
       "      <td>1761.000000</td>\n",
       "      <td>185.925000</td>\n",
       "      <td>35.23</td>\n",
       "      <td>83.500000</td>\n",
       "      <td>1.083725</td>\n",
       "    </tr>\n",
       "    <tr>\n",
       "      <th>3</th>\n",
       "      <td>1963</td>\n",
       "      <td>1.50</td>\n",
       "      <td>NaN</td>\n",
       "      <td>1.50</td>\n",
       "      <td>NaN</td>\n",
       "      <td>NaN</td>\n",
       "      <td>NaN</td>\n",
       "      <td>0.16</td>\n",
       "      <td>0.391351</td>\n",
       "      <td>NaN</td>\n",
       "      <td>...</td>\n",
       "      <td>498.795265</td>\n",
       "      <td>11.02</td>\n",
       "      <td>645.950833</td>\n",
       "      <td>174.808333</td>\n",
       "      <td>2507.733333</td>\n",
       "      <td>1741.666667</td>\n",
       "      <td>211.508333</td>\n",
       "      <td>35.09</td>\n",
       "      <td>80.930833</td>\n",
       "      <td>1.279108</td>\n",
       "    </tr>\n",
       "    <tr>\n",
       "      <th>4</th>\n",
       "      <td>1964</td>\n",
       "      <td>1.45</td>\n",
       "      <td>NaN</td>\n",
       "      <td>1.45</td>\n",
       "      <td>NaN</td>\n",
       "      <td>NaN</td>\n",
       "      <td>NaN</td>\n",
       "      <td>0.15</td>\n",
       "      <td>0.384150</td>\n",
       "      <td>NaN</td>\n",
       "      <td>...</td>\n",
       "      <td>525.985631</td>\n",
       "      <td>10.24</td>\n",
       "      <td>969.753333</td>\n",
       "      <td>277.883333</td>\n",
       "      <td>3412.741667</td>\n",
       "      <td>1741.666667</td>\n",
       "      <td>326.491667</td>\n",
       "      <td>35.10</td>\n",
       "      <td>88.480833</td>\n",
       "      <td>1.293000</td>\n",
       "    </tr>\n",
       "  </tbody>\n",
       "</table>\n",
       "<p>5 rows × 70 columns</p>\n",
       "</div>"
      ],
      "text/plain": [
       "   Unnamed: 0  CRUDE_PETRO CRUDE_BRENT  CRUDE_DUBAI CRUDE_WTI COAL_AUS  \\\n",
       "0        1960         1.63         NaN         1.63       NaN      NaN   \n",
       "1        1961         1.57         NaN         1.57       NaN      NaN   \n",
       "2        1962         1.52         NaN         1.52       NaN      NaN   \n",
       "3        1963         1.50         NaN         1.50       NaN      NaN   \n",
       "4        1964         1.45         NaN         1.45       NaN      NaN   \n",
       "\n",
       "  COAL_SAFRICA  NGAS_US  NGAS_EUR NGAS_JP  ...    ALUMINUM  IRON_ORE  \\\n",
       "0          NaN     0.14  0.404774     NaN  ...  511.471832     11.42   \n",
       "1          NaN     0.15  0.404774     NaN  ...  511.471832     11.02   \n",
       "2          NaN     0.16  0.404774     NaN  ...  498.060392     11.01   \n",
       "3          NaN     0.16  0.391351     NaN  ...  498.795265     11.02   \n",
       "4          NaN     0.15  0.384150     NaN  ...  525.985631     10.24   \n",
       "\n",
       "       COPPER        LEAD          Tin       NICKEL        Zinc   GOLD  \\\n",
       "0  678.755833  198.850000  2196.733333  1631.000000  246.191667  35.27   \n",
       "1  633.084167  176.975000  2449.891667  1711.000000  214.308333  35.25   \n",
       "2  645.143333  155.283333  2471.383333  1761.000000  185.925000  35.23   \n",
       "3  645.950833  174.808333  2507.733333  1741.666667  211.508333  35.09   \n",
       "4  969.753333  277.883333  3412.741667  1741.666667  326.491667  35.10   \n",
       "\n",
       "    PLATINUM    SILVER  \n",
       "0  83.500000  0.913700  \n",
       "1  83.500000  0.924442  \n",
       "2  83.500000  1.083725  \n",
       "3  80.930833  1.279108  \n",
       "4  88.480833  1.293000  \n",
       "\n",
       "[5 rows x 70 columns]"
      ]
     },
     "execution_count": 12,
     "metadata": {},
     "output_type": "execute_result"
    }
   ],
   "source": [
    "df2.head()"
   ]
  },
  {
   "cell_type": "code",
   "execution_count": 13,
   "metadata": {
    "colab": {
     "base_uri": "https://localhost:8080/"
    },
    "executionInfo": {
     "elapsed": 34,
     "status": "ok",
     "timestamp": 1640594517963,
     "user": {
      "displayName": "Islombek Davronov",
      "photoUrl": "https://lh3.googleusercontent.com/a-/AOh14GhAh9Ro-vyEfOqZ8MulGMgaEcDpHtTbSkqU83Pw=s64",
      "userId": "05247046816000910520"
     },
     "user_tz": -300
    },
    "id": "41A04amO5D6S",
    "outputId": "69620182-3cf1-4d7c-df5c-07ad7c658bb4"
   },
   "outputs": [
    {
     "name": "stdout",
     "output_type": "stream",
     "text": [
      "<class 'pandas.core.frame.DataFrame'>\n",
      "RangeIndex: 60 entries, 0 to 59\n",
      "Data columns (total 70 columns):\n",
      " #   Column         Non-Null Count  Dtype  \n",
      "---  ------         --------------  -----  \n",
      " 0   Unnamed: 0     60 non-null     int64  \n",
      " 1   CRUDE_PETRO    60 non-null     float64\n",
      " 2   CRUDE_BRENT    60 non-null     object \n",
      " 3   CRUDE_DUBAI    60 non-null     float64\n",
      " 4   CRUDE_WTI      60 non-null     object \n",
      " 5   COAL_AUS       60 non-null     object \n",
      " 6   COAL_SAFRICA   60 non-null     object \n",
      " 7   NGAS_US        60 non-null     float64\n",
      " 8   NGAS_EUR       60 non-null     float64\n",
      " 9   NGAS_JP        60 non-null     object \n",
      " 10  iNATGAS        60 non-null     float64\n",
      " 11  COCOA          60 non-null     float64\n",
      " 12  COFFEE_ARABIC  60 non-null     float64\n",
      " 13  COFFEE_ROBUS   60 non-null     float64\n",
      " 14  TEA_AVG        60 non-null     float64\n",
      " 15  TEA_COLOMBO    60 non-null     float64\n",
      " 16  TEA_KOLKATA    60 non-null     float64\n",
      " 17  TEA_MOMBASA    60 non-null     float64\n",
      " 18  COCONUT_OIL    60 non-null     float64\n",
      " 19  GRNUT          60 non-null     object \n",
      " 20  FISH_MEAL      60 non-null     object \n",
      " 21  GRNUT_OIL      60 non-null     float64\n",
      " 22  PALM_OIL       60 non-null     float64\n",
      " 23  PLMKRNL_OIL    60 non-null     object \n",
      " 24  SOYBEANS       60 non-null     float64\n",
      " 25  SOYBEAN_OIL    60 non-null     float64\n",
      " 26  SOYBEAN_MEAL   60 non-null     float64\n",
      " 27  BARLEY         60 non-null     float64\n",
      " 28  MAIZE          60 non-null     float64\n",
      " 29  SORGHUM        60 non-null     float64\n",
      " 30  RICE_05        60 non-null     float64\n",
      " 31  RICE_25        60 non-null     object \n",
      " 32  RICE_A1        60 non-null     object \n",
      " 33  RICE_05_VNM    60 non-null     object \n",
      " 34  WHEAT_US_SRW   60 non-null     object \n",
      " 35  WHEAT_US_HRW   60 non-null     float64\n",
      " 36  BANANA_EU      60 non-null     object \n",
      " 37  BANANA_US      60 non-null     float64\n",
      " 38  ORANGE         60 non-null     float64\n",
      " 39  BEEF           60 non-null     float64\n",
      " 40  CHICKEN        60 non-null     float64\n",
      " 41  LAMB           60 non-null     object \n",
      " 42  SHRIMP_MEX     60 non-null     float64\n",
      " 43  SUGAR_EU       60 non-null     float64\n",
      " 44  SUGAR_US       60 non-null     float64\n",
      " 45  SUGAR_WLD      60 non-null     float64\n",
      " 46  TOBAC_US       60 non-null     float64\n",
      " 47  LOGS_CMR       60 non-null     object \n",
      " 48  LOGS_MYS       60 non-null     float64\n",
      " 49  SAWNWD_CMR     60 non-null     object \n",
      " 50  SAWNWD_MYS     60 non-null     float64\n",
      " 51  PLYWOOD        60 non-null     object \n",
      " 52  COTTON_A_INDX  60 non-null     float64\n",
      " 53  RUBBER_TSR20   60 non-null     object \n",
      " 54  RUBBER1_MYSG   60 non-null     float64\n",
      " 55  PHOSROCK       60 non-null     float64\n",
      " 56  DAP            60 non-null     float64\n",
      " 57  TSP            60 non-null     float64\n",
      " 58  UREA_EE_BULK   60 non-null     float64\n",
      " 59  POTASH         60 non-null     float64\n",
      " 60  ALUMINUM       60 non-null     float64\n",
      " 61  IRON_ORE       60 non-null     float64\n",
      " 62  COPPER         60 non-null     float64\n",
      " 63  LEAD           60 non-null     float64\n",
      " 64  Tin            60 non-null     float64\n",
      " 65  NICKEL         60 non-null     float64\n",
      " 66  Zinc           60 non-null     float64\n",
      " 67  GOLD           60 non-null     float64\n",
      " 68  PLATINUM       60 non-null     float64\n",
      " 69  SILVER         60 non-null     float64\n",
      "dtypes: float64(51), int64(1), object(18)\n",
      "memory usage: 32.9+ KB\n"
     ]
    }
   ],
   "source": [
    "df.info()"
   ]
  },
  {
   "cell_type": "markdown",
   "metadata": {
    "id": "RlWD9hgy5lAm"
   },
   "source": [
    "### 2.3-Converting 'Object' data type into numeric"
   ]
  },
  {
   "cell_type": "code",
   "execution_count": 14,
   "metadata": {
    "executionInfo": {
     "elapsed": 30,
     "status": "ok",
     "timestamp": 1640594517964,
     "user": {
      "displayName": "Islombek Davronov",
      "photoUrl": "https://lh3.googleusercontent.com/a-/AOh14GhAh9Ro-vyEfOqZ8MulGMgaEcDpHtTbSkqU83Pw=s64",
      "userId": "05247046816000910520"
     },
     "user_tz": -300
    },
    "id": "uA2jR8kS5zQU"
   },
   "outputs": [],
   "source": [
    "columns = df2.columns\n",
    "\n",
    "for c in list(columns): \n",
    "  df2[c] = df2[c].astype('float64')"
   ]
  },
  {
   "cell_type": "code",
   "execution_count": 15,
   "metadata": {
    "colab": {
     "base_uri": "https://localhost:8080/"
    },
    "executionInfo": {
     "elapsed": 30,
     "status": "ok",
     "timestamp": 1640594517964,
     "user": {
      "displayName": "Islombek Davronov",
      "photoUrl": "https://lh3.googleusercontent.com/a-/AOh14GhAh9Ro-vyEfOqZ8MulGMgaEcDpHtTbSkqU83Pw=s64",
      "userId": "05247046816000910520"
     },
     "user_tz": -300
    },
    "id": "LffNRaii6c0A",
    "outputId": "1c833732-64a3-48a1-f7d1-3c2797ba109f"
   },
   "outputs": [
    {
     "name": "stdout",
     "output_type": "stream",
     "text": [
      "<class 'pandas.core.frame.DataFrame'>\n",
      "RangeIndex: 60 entries, 0 to 59\n",
      "Data columns (total 70 columns):\n",
      " #   Column         Non-Null Count  Dtype  \n",
      "---  ------         --------------  -----  \n",
      " 0   Unnamed: 0     60 non-null     float64\n",
      " 1   CRUDE_PETRO    60 non-null     float64\n",
      " 2   CRUDE_BRENT    41 non-null     float64\n",
      " 3   CRUDE_DUBAI    60 non-null     float64\n",
      " 4   CRUDE_WTI      38 non-null     float64\n",
      " 5   COAL_AUS       50 non-null     float64\n",
      " 6   COAL_SAFRICA   36 non-null     float64\n",
      " 7   NGAS_US        60 non-null     float64\n",
      " 8   NGAS_EUR       60 non-null     float64\n",
      " 9   NGAS_JP        43 non-null     float64\n",
      " 10  iNATGAS        60 non-null     float64\n",
      " 11  COCOA          60 non-null     float64\n",
      " 12  COFFEE_ARABIC  60 non-null     float64\n",
      " 13  COFFEE_ROBUS   60 non-null     float64\n",
      " 14  TEA_AVG        60 non-null     float64\n",
      " 15  TEA_COLOMBO    60 non-null     float64\n",
      " 16  TEA_KOLKATA    60 non-null     float64\n",
      " 17  TEA_MOMBASA    60 non-null     float64\n",
      " 18  COCONUT_OIL    60 non-null     float64\n",
      " 19  GRNUT          40 non-null     float64\n",
      " 20  FISH_MEAL      41 non-null     float64\n",
      " 21  GRNUT_OIL      60 non-null     float64\n",
      " 22  PALM_OIL       60 non-null     float64\n",
      " 23  PLMKRNL_OIL    24 non-null     float64\n",
      " 24  SOYBEANS       60 non-null     float64\n",
      " 25  SOYBEAN_OIL    60 non-null     float64\n",
      " 26  SOYBEAN_MEAL   60 non-null     float64\n",
      " 27  BARLEY         60 non-null     float64\n",
      " 28  MAIZE          60 non-null     float64\n",
      " 29  SORGHUM        60 non-null     float64\n",
      " 30  RICE_05        60 non-null     float64\n",
      " 31  RICE_25        30 non-null     float64\n",
      " 32  RICE_A1        34 non-null     float64\n",
      " 33  RICE_05_VNM    11 non-null     float64\n",
      " 34  WHEAT_US_SRW   41 non-null     float64\n",
      " 35  WHEAT_US_HRW   60 non-null     float64\n",
      " 36  BANANA_EU      23 non-null     float64\n",
      " 37  BANANA_US      60 non-null     float64\n",
      " 38  ORANGE         60 non-null     float64\n",
      " 39  BEEF           60 non-null     float64\n",
      " 40  CHICKEN        60 non-null     float64\n",
      " 41  LAMB           48 non-null     float64\n",
      " 42  SHRIMP_MEX     60 non-null     float64\n",
      " 43  SUGAR_EU       60 non-null     float64\n",
      " 44  SUGAR_US       60 non-null     float64\n",
      " 45  SUGAR_WLD      60 non-null     float64\n",
      " 46  TOBAC_US       60 non-null     float64\n",
      " 47  LOGS_CMR       50 non-null     float64\n",
      " 48  LOGS_MYS       60 non-null     float64\n",
      " 49  SAWNWD_CMR     29 non-null     float64\n",
      " 50  SAWNWD_MYS     60 non-null     float64\n",
      " 51  PLYWOOD        41 non-null     float64\n",
      " 52  COTTON_A_INDX  60 non-null     float64\n",
      " 53  RUBBER_TSR20   21 non-null     float64\n",
      " 54  RUBBER1_MYSG   60 non-null     float64\n",
      " 55  PHOSROCK       60 non-null     float64\n",
      " 56  DAP            60 non-null     float64\n",
      " 57  TSP            60 non-null     float64\n",
      " 58  UREA_EE_BULK   60 non-null     float64\n",
      " 59  POTASH         60 non-null     float64\n",
      " 60  ALUMINUM       60 non-null     float64\n",
      " 61  IRON_ORE       60 non-null     float64\n",
      " 62  COPPER         60 non-null     float64\n",
      " 63  LEAD           60 non-null     float64\n",
      " 64  Tin            60 non-null     float64\n",
      " 65  NICKEL         60 non-null     float64\n",
      " 66  Zinc           60 non-null     float64\n",
      " 67  GOLD           60 non-null     float64\n",
      " 68  PLATINUM       60 non-null     float64\n",
      " 69  SILVER         60 non-null     float64\n",
      "dtypes: float64(70)\n",
      "memory usage: 32.9 KB\n"
     ]
    }
   ],
   "source": [
    "df2.info()"
   ]
  },
  {
   "cell_type": "markdown",
   "metadata": {
    "id": "fMH1PNAq7hKZ"
   },
   "source": [
    "### 2.4-Analyzing the value of Empty(NaN) in data frame"
   ]
  },
  {
   "cell_type": "code",
   "execution_count": 16,
   "metadata": {
    "executionInfo": {
     "elapsed": 25,
     "status": "ok",
     "timestamp": 1640594517965,
     "user": {
      "displayName": "Islombek Davronov",
      "photoUrl": "https://lh3.googleusercontent.com/a-/AOh14GhAh9Ro-vyEfOqZ8MulGMgaEcDpHtTbSkqU83Pw=s64",
      "userId": "05247046816000910520"
     },
     "user_tz": -300
    },
    "id": "UumomcmG6rvk"
   },
   "outputs": [],
   "source": [
    "def missing_values_table(mydf):\n",
    "\n",
    "  mis_val = mydf.isnull().sum()\n",
    "\n",
    "  mis_val_percent = 100 * mydf.isnull().sum() / len(mydf) \n",
    "\n",
    "  mis_val_table = pd.concat([mis_val, mis_val_percent], axis=1)\n",
    "\n",
    "  mis_val_table_ren_columns = mis_val_table.rename(\n",
    "      \n",
    "      columns = {0:'Missing Values', 1:'% of total value of column'})\n",
    "  \n",
    "  mis_val_table_ren_columns = mis_val_table_ren_columns[\n",
    "            mis_val_table_ren_columns.iloc[:,1] != 0].sort_values(\n",
    "  '% of total value of column', ascending=False).round(1)\n",
    "\n",
    "  return mis_val_table_ren_columns"
   ]
  },
  {
   "cell_type": "code",
   "execution_count": 17,
   "metadata": {
    "colab": {
     "base_uri": "https://localhost:8080/",
     "height": 614
    },
    "executionInfo": {
     "elapsed": 24,
     "status": "ok",
     "timestamp": 1640594517965,
     "user": {
      "displayName": "Islombek Davronov",
      "photoUrl": "https://lh3.googleusercontent.com/a-/AOh14GhAh9Ro-vyEfOqZ8MulGMgaEcDpHtTbSkqU83Pw=s64",
      "userId": "05247046816000910520"
     },
     "user_tz": -300
    },
    "id": "eqKM-Ga2-OFl",
    "outputId": "e1969041-e827-4c96-a1ae-7d588e9c35a4"
   },
   "outputs": [
    {
     "data": {
      "text/html": [
       "<div>\n",
       "<style scoped>\n",
       "    .dataframe tbody tr th:only-of-type {\n",
       "        vertical-align: middle;\n",
       "    }\n",
       "\n",
       "    .dataframe tbody tr th {\n",
       "        vertical-align: top;\n",
       "    }\n",
       "\n",
       "    .dataframe thead th {\n",
       "        text-align: right;\n",
       "    }\n",
       "</style>\n",
       "<table border=\"1\" class=\"dataframe\">\n",
       "  <thead>\n",
       "    <tr style=\"text-align: right;\">\n",
       "      <th></th>\n",
       "      <th>Missing Values</th>\n",
       "      <th>% of total value of column</th>\n",
       "    </tr>\n",
       "  </thead>\n",
       "  <tbody>\n",
       "    <tr>\n",
       "      <th>RICE_05_VNM</th>\n",
       "      <td>49</td>\n",
       "      <td>81.7</td>\n",
       "    </tr>\n",
       "    <tr>\n",
       "      <th>RUBBER_TSR20</th>\n",
       "      <td>39</td>\n",
       "      <td>65.0</td>\n",
       "    </tr>\n",
       "    <tr>\n",
       "      <th>BANANA_EU</th>\n",
       "      <td>37</td>\n",
       "      <td>61.7</td>\n",
       "    </tr>\n",
       "    <tr>\n",
       "      <th>PLMKRNL_OIL</th>\n",
       "      <td>36</td>\n",
       "      <td>60.0</td>\n",
       "    </tr>\n",
       "    <tr>\n",
       "      <th>SAWNWD_CMR</th>\n",
       "      <td>31</td>\n",
       "      <td>51.7</td>\n",
       "    </tr>\n",
       "    <tr>\n",
       "      <th>RICE_25</th>\n",
       "      <td>30</td>\n",
       "      <td>50.0</td>\n",
       "    </tr>\n",
       "    <tr>\n",
       "      <th>RICE_A1</th>\n",
       "      <td>26</td>\n",
       "      <td>43.3</td>\n",
       "    </tr>\n",
       "    <tr>\n",
       "      <th>COAL_SAFRICA</th>\n",
       "      <td>24</td>\n",
       "      <td>40.0</td>\n",
       "    </tr>\n",
       "    <tr>\n",
       "      <th>CRUDE_WTI</th>\n",
       "      <td>22</td>\n",
       "      <td>36.7</td>\n",
       "    </tr>\n",
       "    <tr>\n",
       "      <th>GRNUT</th>\n",
       "      <td>20</td>\n",
       "      <td>33.3</td>\n",
       "    </tr>\n",
       "    <tr>\n",
       "      <th>FISH_MEAL</th>\n",
       "      <td>19</td>\n",
       "      <td>31.7</td>\n",
       "    </tr>\n",
       "    <tr>\n",
       "      <th>WHEAT_US_SRW</th>\n",
       "      <td>19</td>\n",
       "      <td>31.7</td>\n",
       "    </tr>\n",
       "    <tr>\n",
       "      <th>PLYWOOD</th>\n",
       "      <td>19</td>\n",
       "      <td>31.7</td>\n",
       "    </tr>\n",
       "    <tr>\n",
       "      <th>CRUDE_BRENT</th>\n",
       "      <td>19</td>\n",
       "      <td>31.7</td>\n",
       "    </tr>\n",
       "    <tr>\n",
       "      <th>NGAS_JP</th>\n",
       "      <td>17</td>\n",
       "      <td>28.3</td>\n",
       "    </tr>\n",
       "    <tr>\n",
       "      <th>LAMB</th>\n",
       "      <td>12</td>\n",
       "      <td>20.0</td>\n",
       "    </tr>\n",
       "    <tr>\n",
       "      <th>LOGS_CMR</th>\n",
       "      <td>10</td>\n",
       "      <td>16.7</td>\n",
       "    </tr>\n",
       "    <tr>\n",
       "      <th>COAL_AUS</th>\n",
       "      <td>10</td>\n",
       "      <td>16.7</td>\n",
       "    </tr>\n",
       "  </tbody>\n",
       "</table>\n",
       "</div>"
      ],
      "text/plain": [
       "              Missing Values  % of total value of column\n",
       "RICE_05_VNM               49                        81.7\n",
       "RUBBER_TSR20              39                        65.0\n",
       "BANANA_EU                 37                        61.7\n",
       "PLMKRNL_OIL               36                        60.0\n",
       "SAWNWD_CMR                31                        51.7\n",
       "RICE_25                   30                        50.0\n",
       "RICE_A1                   26                        43.3\n",
       "COAL_SAFRICA              24                        40.0\n",
       "CRUDE_WTI                 22                        36.7\n",
       "GRNUT                     20                        33.3\n",
       "FISH_MEAL                 19                        31.7\n",
       "WHEAT_US_SRW              19                        31.7\n",
       "PLYWOOD                   19                        31.7\n",
       "CRUDE_BRENT               19                        31.7\n",
       "NGAS_JP                   17                        28.3\n",
       "LAMB                      12                        20.0\n",
       "LOGS_CMR                  10                        16.7\n",
       "COAL_AUS                  10                        16.7"
      ]
     },
     "execution_count": 17,
     "metadata": {},
     "output_type": "execute_result"
    }
   ],
   "source": [
    "missing_values_table(df2)"
   ]
  },
  {
   "cell_type": "markdown",
   "metadata": {
    "id": "OiWlWmVI_grO"
   },
   "source": [
    "### 2.5-Removing missing values that is more than 50% in columm"
   ]
  },
  {
   "cell_type": "code",
   "execution_count": 18,
   "metadata": {
    "colab": {
     "base_uri": "https://localhost:8080/"
    },
    "executionInfo": {
     "elapsed": 24,
     "status": "ok",
     "timestamp": 1640594517966,
     "user": {
      "displayName": "Islombek Davronov",
      "photoUrl": "https://lh3.googleusercontent.com/a-/AOh14GhAh9Ro-vyEfOqZ8MulGMgaEcDpHtTbSkqU83Pw=s64",
      "userId": "05247046816000910520"
     },
     "user_tz": -300
    },
    "id": "PGiZ3Oth-TU4",
    "outputId": "1ece4ae0-f0bb-44e3-959f-6aad2c1e18bb"
   },
   "outputs": [
    {
     "name": "stdout",
     "output_type": "stream",
     "text": [
      "We remove 5 tables\n"
     ]
    }
   ],
   "source": [
    "missing_df = missing_values_table(df2)\n",
    "missing_columns = list(missing_df[missing_df['% of total value of column']>50].index)\n",
    "print('We remove %d tables' % len(missing_columns))\n"
   ]
  },
  {
   "cell_type": "markdown",
   "metadata": {
    "id": "06DFcnpgBd2t"
   },
   "source": [
    "#### Columns That need to be removed"
   ]
  },
  {
   "cell_type": "code",
   "execution_count": 19,
   "metadata": {
    "colab": {
     "base_uri": "https://localhost:8080/"
    },
    "executionInfo": {
     "elapsed": 20,
     "status": "ok",
     "timestamp": 1640594517966,
     "user": {
      "displayName": "Islombek Davronov",
      "photoUrl": "https://lh3.googleusercontent.com/a-/AOh14GhAh9Ro-vyEfOqZ8MulGMgaEcDpHtTbSkqU83Pw=s64",
      "userId": "05247046816000910520"
     },
     "user_tz": -300
    },
    "id": "M593MKCeBFo4",
    "outputId": "0771bd63-be73-43f5-9477-49b953da10e0"
   },
   "outputs": [
    {
     "data": {
      "text/plain": [
       "['RICE_05_VNM', 'RUBBER_TSR20', 'BANANA_EU', 'PLMKRNL_OIL', 'SAWNWD_CMR']"
      ]
     },
     "execution_count": 19,
     "metadata": {},
     "output_type": "execute_result"
    }
   ],
   "source": [
    "missing_columns"
   ]
  },
  {
   "cell_type": "markdown",
   "metadata": {
    "id": "rny919XfB1wd"
   },
   "source": [
    "#### Dropping not needed columns from dataframe"
   ]
  },
  {
   "cell_type": "code",
   "execution_count": 20,
   "metadata": {
    "colab": {
     "base_uri": "https://localhost:8080/"
    },
    "executionInfo": {
     "elapsed": 18,
     "status": "ok",
     "timestamp": 1640594517967,
     "user": {
      "displayName": "Islombek Davronov",
      "photoUrl": "https://lh3.googleusercontent.com/a-/AOh14GhAh9Ro-vyEfOqZ8MulGMgaEcDpHtTbSkqU83Pw=s64",
      "userId": "05247046816000910520"
     },
     "user_tz": -300
    },
    "id": "hJusz42yB9Vd",
    "outputId": "3c9f6507-7bfe-453b-f1b3-29729e6df968"
   },
   "outputs": [
    {
     "data": {
      "text/plain": [
       "(60, 70)"
      ]
     },
     "execution_count": 20,
     "metadata": {},
     "output_type": "execute_result"
    }
   ],
   "source": [
    "df2.shape"
   ]
  },
  {
   "cell_type": "code",
   "execution_count": 21,
   "metadata": {
    "executionInfo": {
     "elapsed": 15,
     "status": "ok",
     "timestamp": 1640594517967,
     "user": {
      "displayName": "Islombek Davronov",
      "photoUrl": "https://lh3.googleusercontent.com/a-/AOh14GhAh9Ro-vyEfOqZ8MulGMgaEcDpHtTbSkqU83Pw=s64",
      "userId": "05247046816000910520"
     },
     "user_tz": -300
    },
    "id": "0Ye_0Vt2B_96"
   },
   "outputs": [],
   "source": [
    "df2 = df2.drop(columns = list(missing_columns))"
   ]
  },
  {
   "cell_type": "code",
   "execution_count": 22,
   "metadata": {
    "colab": {
     "base_uri": "https://localhost:8080/"
    },
    "executionInfo": {
     "elapsed": 16,
     "status": "ok",
     "timestamp": 1640594517968,
     "user": {
      "displayName": "Islombek Davronov",
      "photoUrl": "https://lh3.googleusercontent.com/a-/AOh14GhAh9Ro-vyEfOqZ8MulGMgaEcDpHtTbSkqU83Pw=s64",
      "userId": "05247046816000910520"
     },
     "user_tz": -300
    },
    "id": "8WYnROdxCKew",
    "outputId": "7568c782-842c-45d1-bc80-b947bc561a3f"
   },
   "outputs": [
    {
     "data": {
      "text/plain": [
       "(60, 65)"
      ]
     },
     "execution_count": 22,
     "metadata": {},
     "output_type": "execute_result"
    }
   ],
   "source": [
    "df2.shape"
   ]
  },
  {
   "cell_type": "code",
   "execution_count": 23,
   "metadata": {
    "colab": {
     "base_uri": "https://localhost:8080/",
     "height": 375
    },
    "executionInfo": {
     "elapsed": 376,
     "status": "ok",
     "timestamp": 1640594518331,
     "user": {
      "displayName": "Islombek Davronov",
      "photoUrl": "https://lh3.googleusercontent.com/a-/AOh14GhAh9Ro-vyEfOqZ8MulGMgaEcDpHtTbSkqU83Pw=s64",
      "userId": "05247046816000910520"
     },
     "user_tz": -300
    },
    "id": "ve07eIA1CNrb",
    "outputId": "1b781bef-99f1-4cad-8397-0a2fd4b3b3a0"
   },
   "outputs": [
    {
     "data": {
      "text/html": [
       "<div>\n",
       "<style scoped>\n",
       "    .dataframe tbody tr th:only-of-type {\n",
       "        vertical-align: middle;\n",
       "    }\n",
       "\n",
       "    .dataframe tbody tr th {\n",
       "        vertical-align: top;\n",
       "    }\n",
       "\n",
       "    .dataframe thead th {\n",
       "        text-align: right;\n",
       "    }\n",
       "</style>\n",
       "<table border=\"1\" class=\"dataframe\">\n",
       "  <thead>\n",
       "    <tr style=\"text-align: right;\">\n",
       "      <th></th>\n",
       "      <th>Unnamed: 0</th>\n",
       "      <th>CRUDE_PETRO</th>\n",
       "      <th>CRUDE_BRENT</th>\n",
       "      <th>CRUDE_DUBAI</th>\n",
       "      <th>CRUDE_WTI</th>\n",
       "      <th>COAL_AUS</th>\n",
       "      <th>COAL_SAFRICA</th>\n",
       "      <th>NGAS_US</th>\n",
       "      <th>NGAS_EUR</th>\n",
       "      <th>NGAS_JP</th>\n",
       "      <th>...</th>\n",
       "      <th>ALUMINUM</th>\n",
       "      <th>IRON_ORE</th>\n",
       "      <th>COPPER</th>\n",
       "      <th>LEAD</th>\n",
       "      <th>Tin</th>\n",
       "      <th>NICKEL</th>\n",
       "      <th>Zinc</th>\n",
       "      <th>GOLD</th>\n",
       "      <th>PLATINUM</th>\n",
       "      <th>SILVER</th>\n",
       "    </tr>\n",
       "  </thead>\n",
       "  <tbody>\n",
       "    <tr>\n",
       "      <th>0</th>\n",
       "      <td>1960.0</td>\n",
       "      <td>1.63</td>\n",
       "      <td>NaN</td>\n",
       "      <td>1.63</td>\n",
       "      <td>NaN</td>\n",
       "      <td>NaN</td>\n",
       "      <td>NaN</td>\n",
       "      <td>0.14</td>\n",
       "      <td>0.404774</td>\n",
       "      <td>NaN</td>\n",
       "      <td>...</td>\n",
       "      <td>511.471832</td>\n",
       "      <td>11.42</td>\n",
       "      <td>678.755833</td>\n",
       "      <td>198.850000</td>\n",
       "      <td>2196.733333</td>\n",
       "      <td>1631.000000</td>\n",
       "      <td>246.191667</td>\n",
       "      <td>35.27</td>\n",
       "      <td>83.500000</td>\n",
       "      <td>0.913700</td>\n",
       "    </tr>\n",
       "    <tr>\n",
       "      <th>1</th>\n",
       "      <td>1961.0</td>\n",
       "      <td>1.57</td>\n",
       "      <td>NaN</td>\n",
       "      <td>1.57</td>\n",
       "      <td>NaN</td>\n",
       "      <td>NaN</td>\n",
       "      <td>NaN</td>\n",
       "      <td>0.15</td>\n",
       "      <td>0.404774</td>\n",
       "      <td>NaN</td>\n",
       "      <td>...</td>\n",
       "      <td>511.471832</td>\n",
       "      <td>11.02</td>\n",
       "      <td>633.084167</td>\n",
       "      <td>176.975000</td>\n",
       "      <td>2449.891667</td>\n",
       "      <td>1711.000000</td>\n",
       "      <td>214.308333</td>\n",
       "      <td>35.25</td>\n",
       "      <td>83.500000</td>\n",
       "      <td>0.924442</td>\n",
       "    </tr>\n",
       "    <tr>\n",
       "      <th>2</th>\n",
       "      <td>1962.0</td>\n",
       "      <td>1.52</td>\n",
       "      <td>NaN</td>\n",
       "      <td>1.52</td>\n",
       "      <td>NaN</td>\n",
       "      <td>NaN</td>\n",
       "      <td>NaN</td>\n",
       "      <td>0.16</td>\n",
       "      <td>0.404774</td>\n",
       "      <td>NaN</td>\n",
       "      <td>...</td>\n",
       "      <td>498.060392</td>\n",
       "      <td>11.01</td>\n",
       "      <td>645.143333</td>\n",
       "      <td>155.283333</td>\n",
       "      <td>2471.383333</td>\n",
       "      <td>1761.000000</td>\n",
       "      <td>185.925000</td>\n",
       "      <td>35.23</td>\n",
       "      <td>83.500000</td>\n",
       "      <td>1.083725</td>\n",
       "    </tr>\n",
       "    <tr>\n",
       "      <th>3</th>\n",
       "      <td>1963.0</td>\n",
       "      <td>1.50</td>\n",
       "      <td>NaN</td>\n",
       "      <td>1.50</td>\n",
       "      <td>NaN</td>\n",
       "      <td>NaN</td>\n",
       "      <td>NaN</td>\n",
       "      <td>0.16</td>\n",
       "      <td>0.391351</td>\n",
       "      <td>NaN</td>\n",
       "      <td>...</td>\n",
       "      <td>498.795265</td>\n",
       "      <td>11.02</td>\n",
       "      <td>645.950833</td>\n",
       "      <td>174.808333</td>\n",
       "      <td>2507.733333</td>\n",
       "      <td>1741.666667</td>\n",
       "      <td>211.508333</td>\n",
       "      <td>35.09</td>\n",
       "      <td>80.930833</td>\n",
       "      <td>1.279108</td>\n",
       "    </tr>\n",
       "    <tr>\n",
       "      <th>4</th>\n",
       "      <td>1964.0</td>\n",
       "      <td>1.45</td>\n",
       "      <td>NaN</td>\n",
       "      <td>1.45</td>\n",
       "      <td>NaN</td>\n",
       "      <td>NaN</td>\n",
       "      <td>NaN</td>\n",
       "      <td>0.15</td>\n",
       "      <td>0.384150</td>\n",
       "      <td>NaN</td>\n",
       "      <td>...</td>\n",
       "      <td>525.985631</td>\n",
       "      <td>10.24</td>\n",
       "      <td>969.753333</td>\n",
       "      <td>277.883333</td>\n",
       "      <td>3412.741667</td>\n",
       "      <td>1741.666667</td>\n",
       "      <td>326.491667</td>\n",
       "      <td>35.10</td>\n",
       "      <td>88.480833</td>\n",
       "      <td>1.293000</td>\n",
       "    </tr>\n",
       "  </tbody>\n",
       "</table>\n",
       "<p>5 rows × 65 columns</p>\n",
       "</div>"
      ],
      "text/plain": [
       "   Unnamed: 0  CRUDE_PETRO  CRUDE_BRENT  CRUDE_DUBAI  CRUDE_WTI  COAL_AUS  \\\n",
       "0      1960.0         1.63          NaN         1.63        NaN       NaN   \n",
       "1      1961.0         1.57          NaN         1.57        NaN       NaN   \n",
       "2      1962.0         1.52          NaN         1.52        NaN       NaN   \n",
       "3      1963.0         1.50          NaN         1.50        NaN       NaN   \n",
       "4      1964.0         1.45          NaN         1.45        NaN       NaN   \n",
       "\n",
       "   COAL_SAFRICA  NGAS_US  NGAS_EUR  NGAS_JP  ...    ALUMINUM  IRON_ORE  \\\n",
       "0           NaN     0.14  0.404774      NaN  ...  511.471832     11.42   \n",
       "1           NaN     0.15  0.404774      NaN  ...  511.471832     11.02   \n",
       "2           NaN     0.16  0.404774      NaN  ...  498.060392     11.01   \n",
       "3           NaN     0.16  0.391351      NaN  ...  498.795265     11.02   \n",
       "4           NaN     0.15  0.384150      NaN  ...  525.985631     10.24   \n",
       "\n",
       "       COPPER        LEAD          Tin       NICKEL        Zinc   GOLD  \\\n",
       "0  678.755833  198.850000  2196.733333  1631.000000  246.191667  35.27   \n",
       "1  633.084167  176.975000  2449.891667  1711.000000  214.308333  35.25   \n",
       "2  645.143333  155.283333  2471.383333  1761.000000  185.925000  35.23   \n",
       "3  645.950833  174.808333  2507.733333  1741.666667  211.508333  35.09   \n",
       "4  969.753333  277.883333  3412.741667  1741.666667  326.491667  35.10   \n",
       "\n",
       "    PLATINUM    SILVER  \n",
       "0  83.500000  0.913700  \n",
       "1  83.500000  0.924442  \n",
       "2  83.500000  1.083725  \n",
       "3  80.930833  1.279108  \n",
       "4  88.480833  1.293000  \n",
       "\n",
       "[5 rows x 65 columns]"
      ]
     },
     "execution_count": 23,
     "metadata": {},
     "output_type": "execute_result"
    }
   ],
   "source": [
    "df2.head()"
   ]
  },
  {
   "cell_type": "markdown",
   "metadata": {
    "id": "uPL6oSHqFTUL"
   },
   "source": [
    "# 3 - Replacing 'NaN' values with the mean of that columns "
   ]
  },
  {
   "cell_type": "markdown",
   "metadata": {
    "id": "RdKPVaRqGAZB"
   },
   "source": [
    "### 3.1 - Getting mean values of each table"
   ]
  },
  {
   "cell_type": "code",
   "execution_count": 24,
   "metadata": {
    "colab": {
     "base_uri": "https://localhost:8080/"
    },
    "executionInfo": {
     "elapsed": 13,
     "status": "ok",
     "timestamp": 1640594518332,
     "user": {
      "displayName": "Islombek Davronov",
      "photoUrl": "https://lh3.googleusercontent.com/a-/AOh14GhAh9Ro-vyEfOqZ8MulGMgaEcDpHtTbSkqU83Pw=s64",
      "userId": "05247046816000910520"
     },
     "user_tz": -300
    },
    "id": "wuy64uwTGE_9",
    "outputId": "a4f37de1-7126-4176-afc4-9d85fbf4dcd1"
   },
   "outputs": [
    {
     "name": "stdout",
     "output_type": "stream",
     "text": [
      "<class 'pandas.core.series.Series'>\n",
      "Unnamed: 0     1989.500000\n",
      "CRUDE_PETRO      30.082080\n",
      "CRUDE_BRENT      43.138715\n",
      "CRUDE_DUBAI      29.333050\n",
      "CRUDE_WTI        42.682958\n",
      "                  ...     \n",
      "NICKEL         8434.341159\n",
      "Zinc           1141.416872\n",
      "GOLD            467.746266\n",
      "PLATINUM        552.916669\n",
      "SILVER            8.205859\n",
      "Length: 65, dtype: float64\n",
      "________________\n",
      "30.0820800679\n"
     ]
    }
   ],
   "source": [
    "means = df2.mean()\n",
    "\n",
    "print(type(means))\n",
    "\n",
    "print(means)\n",
    "print('________________')\n",
    "print(means['CRUDE_PETRO'])"
   ]
  },
  {
   "cell_type": "markdown",
   "metadata": {
    "id": "h0ztpcduGpCO"
   },
   "source": [
    "### 3.2 - Copying DataFrame 2 to another one to save previous work"
   ]
  },
  {
   "cell_type": "code",
   "execution_count": 25,
   "metadata": {
    "executionInfo": {
     "elapsed": 9,
     "status": "ok",
     "timestamp": 1640594518332,
     "user": {
      "displayName": "Islombek Davronov",
      "photoUrl": "https://lh3.googleusercontent.com/a-/AOh14GhAh9Ro-vyEfOqZ8MulGMgaEcDpHtTbSkqU83Pw=s64",
      "userId": "05247046816000910520"
     },
     "user_tz": -300
    },
    "id": "QDhDCZEpGZub"
   },
   "outputs": [],
   "source": [
    "df3 = df2.copy()"
   ]
  },
  {
   "cell_type": "markdown",
   "metadata": {
    "id": "Bo8l6RoNHr0z"
   },
   "source": [
    "### 3.3 - Replacing each missing values with its equivalent means"
   ]
  },
  {
   "cell_type": "code",
   "execution_count": 26,
   "metadata": {
    "executionInfo": {
     "elapsed": 10,
     "status": "ok",
     "timestamp": 1640594518333,
     "user": {
      "displayName": "Islombek Davronov",
      "photoUrl": "https://lh3.googleusercontent.com/a-/AOh14GhAh9Ro-vyEfOqZ8MulGMgaEcDpHtTbSkqU83Pw=s64",
      "userId": "05247046816000910520"
     },
     "user_tz": -300
    },
    "id": "oL1W_PBVG59u"
   },
   "outputs": [],
   "source": [
    "new_columns = df3.columns\n",
    "\n",
    "for c in list(new_columns):\n",
    "  #df3[c] = df3[c].replace(np.nan, means[c])\n",
    "  df3[c].fillna(means[c], inplace=True)"
   ]
  },
  {
   "cell_type": "code",
   "execution_count": 27,
   "metadata": {
    "colab": {
     "base_uri": "https://localhost:8080/",
     "height": 375
    },
    "executionInfo": {
     "elapsed": 9,
     "status": "ok",
     "timestamp": 1640594518333,
     "user": {
      "displayName": "Islombek Davronov",
      "photoUrl": "https://lh3.googleusercontent.com/a-/AOh14GhAh9Ro-vyEfOqZ8MulGMgaEcDpHtTbSkqU83Pw=s64",
      "userId": "05247046816000910520"
     },
     "user_tz": -300
    },
    "id": "j3qCwz95IYax",
    "outputId": "5e155657-ad37-4d65-d188-220d984e5068"
   },
   "outputs": [
    {
     "data": {
      "text/html": [
       "<div>\n",
       "<style scoped>\n",
       "    .dataframe tbody tr th:only-of-type {\n",
       "        vertical-align: middle;\n",
       "    }\n",
       "\n",
       "    .dataframe tbody tr th {\n",
       "        vertical-align: top;\n",
       "    }\n",
       "\n",
       "    .dataframe thead th {\n",
       "        text-align: right;\n",
       "    }\n",
       "</style>\n",
       "<table border=\"1\" class=\"dataframe\">\n",
       "  <thead>\n",
       "    <tr style=\"text-align: right;\">\n",
       "      <th></th>\n",
       "      <th>Unnamed: 0</th>\n",
       "      <th>CRUDE_PETRO</th>\n",
       "      <th>CRUDE_BRENT</th>\n",
       "      <th>CRUDE_DUBAI</th>\n",
       "      <th>CRUDE_WTI</th>\n",
       "      <th>COAL_AUS</th>\n",
       "      <th>COAL_SAFRICA</th>\n",
       "      <th>NGAS_US</th>\n",
       "      <th>NGAS_EUR</th>\n",
       "      <th>NGAS_JP</th>\n",
       "      <th>...</th>\n",
       "      <th>ALUMINUM</th>\n",
       "      <th>IRON_ORE</th>\n",
       "      <th>COPPER</th>\n",
       "      <th>LEAD</th>\n",
       "      <th>Tin</th>\n",
       "      <th>NICKEL</th>\n",
       "      <th>Zinc</th>\n",
       "      <th>GOLD</th>\n",
       "      <th>PLATINUM</th>\n",
       "      <th>SILVER</th>\n",
       "    </tr>\n",
       "  </thead>\n",
       "  <tbody>\n",
       "    <tr>\n",
       "      <th>0</th>\n",
       "      <td>1960.0</td>\n",
       "      <td>1.63</td>\n",
       "      <td>43.138715</td>\n",
       "      <td>1.63</td>\n",
       "      <td>42.682958</td>\n",
       "      <td>46.469205</td>\n",
       "      <td>50.797283</td>\n",
       "      <td>0.14</td>\n",
       "      <td>0.404774</td>\n",
       "      <td>6.519738</td>\n",
       "      <td>...</td>\n",
       "      <td>511.471832</td>\n",
       "      <td>11.42</td>\n",
       "      <td>678.755833</td>\n",
       "      <td>198.850000</td>\n",
       "      <td>2196.733333</td>\n",
       "      <td>1631.000000</td>\n",
       "      <td>246.191667</td>\n",
       "      <td>35.27</td>\n",
       "      <td>83.500000</td>\n",
       "      <td>0.913700</td>\n",
       "    </tr>\n",
       "    <tr>\n",
       "      <th>1</th>\n",
       "      <td>1961.0</td>\n",
       "      <td>1.57</td>\n",
       "      <td>43.138715</td>\n",
       "      <td>1.57</td>\n",
       "      <td>42.682958</td>\n",
       "      <td>46.469205</td>\n",
       "      <td>50.797283</td>\n",
       "      <td>0.15</td>\n",
       "      <td>0.404774</td>\n",
       "      <td>6.519738</td>\n",
       "      <td>...</td>\n",
       "      <td>511.471832</td>\n",
       "      <td>11.02</td>\n",
       "      <td>633.084167</td>\n",
       "      <td>176.975000</td>\n",
       "      <td>2449.891667</td>\n",
       "      <td>1711.000000</td>\n",
       "      <td>214.308333</td>\n",
       "      <td>35.25</td>\n",
       "      <td>83.500000</td>\n",
       "      <td>0.924442</td>\n",
       "    </tr>\n",
       "    <tr>\n",
       "      <th>2</th>\n",
       "      <td>1962.0</td>\n",
       "      <td>1.52</td>\n",
       "      <td>43.138715</td>\n",
       "      <td>1.52</td>\n",
       "      <td>42.682958</td>\n",
       "      <td>46.469205</td>\n",
       "      <td>50.797283</td>\n",
       "      <td>0.16</td>\n",
       "      <td>0.404774</td>\n",
       "      <td>6.519738</td>\n",
       "      <td>...</td>\n",
       "      <td>498.060392</td>\n",
       "      <td>11.01</td>\n",
       "      <td>645.143333</td>\n",
       "      <td>155.283333</td>\n",
       "      <td>2471.383333</td>\n",
       "      <td>1761.000000</td>\n",
       "      <td>185.925000</td>\n",
       "      <td>35.23</td>\n",
       "      <td>83.500000</td>\n",
       "      <td>1.083725</td>\n",
       "    </tr>\n",
       "    <tr>\n",
       "      <th>3</th>\n",
       "      <td>1963.0</td>\n",
       "      <td>1.50</td>\n",
       "      <td>43.138715</td>\n",
       "      <td>1.50</td>\n",
       "      <td>42.682958</td>\n",
       "      <td>46.469205</td>\n",
       "      <td>50.797283</td>\n",
       "      <td>0.16</td>\n",
       "      <td>0.391351</td>\n",
       "      <td>6.519738</td>\n",
       "      <td>...</td>\n",
       "      <td>498.795265</td>\n",
       "      <td>11.02</td>\n",
       "      <td>645.950833</td>\n",
       "      <td>174.808333</td>\n",
       "      <td>2507.733333</td>\n",
       "      <td>1741.666667</td>\n",
       "      <td>211.508333</td>\n",
       "      <td>35.09</td>\n",
       "      <td>80.930833</td>\n",
       "      <td>1.279108</td>\n",
       "    </tr>\n",
       "    <tr>\n",
       "      <th>4</th>\n",
       "      <td>1964.0</td>\n",
       "      <td>1.45</td>\n",
       "      <td>43.138715</td>\n",
       "      <td>1.45</td>\n",
       "      <td>42.682958</td>\n",
       "      <td>46.469205</td>\n",
       "      <td>50.797283</td>\n",
       "      <td>0.15</td>\n",
       "      <td>0.384150</td>\n",
       "      <td>6.519738</td>\n",
       "      <td>...</td>\n",
       "      <td>525.985631</td>\n",
       "      <td>10.24</td>\n",
       "      <td>969.753333</td>\n",
       "      <td>277.883333</td>\n",
       "      <td>3412.741667</td>\n",
       "      <td>1741.666667</td>\n",
       "      <td>326.491667</td>\n",
       "      <td>35.10</td>\n",
       "      <td>88.480833</td>\n",
       "      <td>1.293000</td>\n",
       "    </tr>\n",
       "  </tbody>\n",
       "</table>\n",
       "<p>5 rows × 65 columns</p>\n",
       "</div>"
      ],
      "text/plain": [
       "   Unnamed: 0  CRUDE_PETRO  CRUDE_BRENT  CRUDE_DUBAI  CRUDE_WTI   COAL_AUS  \\\n",
       "0      1960.0         1.63    43.138715         1.63  42.682958  46.469205   \n",
       "1      1961.0         1.57    43.138715         1.57  42.682958  46.469205   \n",
       "2      1962.0         1.52    43.138715         1.52  42.682958  46.469205   \n",
       "3      1963.0         1.50    43.138715         1.50  42.682958  46.469205   \n",
       "4      1964.0         1.45    43.138715         1.45  42.682958  46.469205   \n",
       "\n",
       "   COAL_SAFRICA  NGAS_US  NGAS_EUR   NGAS_JP  ...    ALUMINUM  IRON_ORE  \\\n",
       "0     50.797283     0.14  0.404774  6.519738  ...  511.471832     11.42   \n",
       "1     50.797283     0.15  0.404774  6.519738  ...  511.471832     11.02   \n",
       "2     50.797283     0.16  0.404774  6.519738  ...  498.060392     11.01   \n",
       "3     50.797283     0.16  0.391351  6.519738  ...  498.795265     11.02   \n",
       "4     50.797283     0.15  0.384150  6.519738  ...  525.985631     10.24   \n",
       "\n",
       "       COPPER        LEAD          Tin       NICKEL        Zinc   GOLD  \\\n",
       "0  678.755833  198.850000  2196.733333  1631.000000  246.191667  35.27   \n",
       "1  633.084167  176.975000  2449.891667  1711.000000  214.308333  35.25   \n",
       "2  645.143333  155.283333  2471.383333  1761.000000  185.925000  35.23   \n",
       "3  645.950833  174.808333  2507.733333  1741.666667  211.508333  35.09   \n",
       "4  969.753333  277.883333  3412.741667  1741.666667  326.491667  35.10   \n",
       "\n",
       "    PLATINUM    SILVER  \n",
       "0  83.500000  0.913700  \n",
       "1  83.500000  0.924442  \n",
       "2  83.500000  1.083725  \n",
       "3  80.930833  1.279108  \n",
       "4  88.480833  1.293000  \n",
       "\n",
       "[5 rows x 65 columns]"
      ]
     },
     "execution_count": 27,
     "metadata": {},
     "output_type": "execute_result"
    }
   ],
   "source": [
    "df3.head()"
   ]
  },
  {
   "cell_type": "markdown",
   "metadata": {
    "id": "jtYyEtRmJEZa"
   },
   "source": [
    "# 4 - Plotting and Analayzing Data with Graph"
   ]
  },
  {
   "cell_type": "markdown",
   "metadata": {
    "id": "OZLRGHhKJRLm"
   },
   "source": [
    "### 4.1 - 'NGAS_EU' columnd Distribution "
   ]
  },
  {
   "cell_type": "code",
   "execution_count": 28,
   "metadata": {
    "executionInfo": {
     "elapsed": 393,
     "status": "ok",
     "timestamp": 1640594518718,
     "user": {
      "displayName": "Islombek Davronov",
      "photoUrl": "https://lh3.googleusercontent.com/a-/AOh14GhAh9Ro-vyEfOqZ8MulGMgaEcDpHtTbSkqU83Pw=s64",
      "userId": "05247046816000910520"
     },
     "user_tz": -300
    },
    "id": "yhk-fK6IJfEV"
   },
   "outputs": [],
   "source": [
    "import seaborn as sns "
   ]
  },
  {
   "cell_type": "code",
   "execution_count": 29,
   "metadata": {
    "colab": {
     "base_uri": "https://localhost:8080/",
     "height": 352
    },
    "executionInfo": {
     "elapsed": 375,
     "status": "ok",
     "timestamp": 1640594519091,
     "user": {
      "displayName": "Islombek Davronov",
      "photoUrl": "https://lh3.googleusercontent.com/a-/AOh14GhAh9Ro-vyEfOqZ8MulGMgaEcDpHtTbSkqU83Pw=s64",
      "userId": "05247046816000910520"
     },
     "user_tz": -300
    },
    "id": "U3XGxw0DJoih",
    "outputId": "7c9f03e0-92b7-406f-a090-661b208c6010"
   },
   "outputs": [
    {
     "name": "stderr",
     "output_type": "stream",
     "text": [
      "/Users/Isco/opt/anaconda3/lib/python3.8/site-packages/seaborn/distributions.py:2557: FutureWarning: `distplot` is a deprecated function and will be removed in a future version. Please adapt your code to use either `displot` (a figure-level function with similar flexibility) or `histplot` (an axes-level function for histograms).\n",
      "  warnings.warn(msg, FutureWarning)\n"
     ]
    },
    {
     "data": {
      "text/plain": [
       "<AxesSubplot:xlabel='NGAS_EUR', ylabel='Density'>"
      ]
     },
     "execution_count": 29,
     "metadata": {},
     "output_type": "execute_result"
    },
    {
     "data": {
      "image/png": "[encoded data removed]",
      "text/plain": [
       "<Figure size 432x288 with 1 Axes>"
      ]
     },
     "metadata": {
      "needs_background": "light"
     },
     "output_type": "display_data"
    }
   ],
   "source": [
    "sns.distplot(df3['NGAS_EUR'])"
   ]
  },
  {
   "cell_type": "markdown",
   "metadata": {
    "id": "eP3fo_x-KQxR"
   },
   "source": [
    "### Correlations in HeatMap"
   ]
  },
  {
   "cell_type": "code",
   "execution_count": 30,
   "metadata": {
    "colab": {
     "base_uri": "https://localhost:8080/",
     "height": 958
    },
    "executionInfo": {
     "elapsed": 3166,
     "status": "ok",
     "timestamp": 1640594522251,
     "user": {
      "displayName": "Islombek Davronov",
      "photoUrl": "https://lh3.googleusercontent.com/a-/AOh14GhAh9Ro-vyEfOqZ8MulGMgaEcDpHtTbSkqU83Pw=s64",
      "userId": "05247046816000910520"
     },
     "user_tz": -300
    },
    "id": "ZVkXl95XKVuf",
    "outputId": "44e3453c-d961-4726-ffc4-e1c2d75796fa"
   },
   "outputs": [
    {
     "data": {
      "text/plain": [
       "<AxesSubplot:>"
      ]
     },
     "execution_count": 30,
     "metadata": {},
     "output_type": "execute_result"
    },
    {
     "data": {
      "image/png": "[encoded data removed]",
      "text/plain": [
       "<Figure size 1440x1080 with 2 Axes>"
      ]
     },
     "metadata": {
      "needs_background": "light"
     },
     "output_type": "display_data"
    }
   ],
   "source": [
    "pyplot.subplots(figsize=(20,15))\n",
    "sns.heatmap(df3.corr())"
   ]
  },
  {
   "cell_type": "code",
   "execution_count": 31,
   "metadata": {
    "colab": {
     "base_uri": "https://localhost:8080/"
    },
    "executionInfo": {
     "elapsed": 26,
     "status": "ok",
     "timestamp": 1640594522252,
     "user": {
      "displayName": "Islombek Davronov",
      "photoUrl": "https://lh3.googleusercontent.com/a-/AOh14GhAh9Ro-vyEfOqZ8MulGMgaEcDpHtTbSkqU83Pw=s64",
      "userId": "05247046816000910520"
     },
     "user_tz": -300
    },
    "id": "3GmusXPHKfdR",
    "outputId": "d195d607-12bd-47b7-cc50-41fa7a7814cb"
   },
   "outputs": [
    {
     "data": {
      "text/plain": [
       "Unnamed: 0     45.529871\n",
       "CRUDE_PETRO    51.773764\n",
       "CRUDE_BRENT    39.002891\n",
       "CRUDE_DUBAI    51.778762\n",
       "CRUDE_WTI      38.307586\n",
       "                 ...    \n",
       "NICKEL         43.389876\n",
       "Zinc           44.781304\n",
       "GOLD           50.812115\n",
       "PLATINUM       51.218950\n",
       "SILVER         49.460004\n",
       "Length: 65, dtype: float64"
      ]
     },
     "execution_count": 31,
     "metadata": {},
     "output_type": "execute_result"
    }
   ],
   "source": [
    "df3.corr().sum()"
   ]
  },
  {
   "cell_type": "code",
   "execution_count": 32,
   "metadata": {
    "colab": {
     "base_uri": "https://localhost:8080/"
    },
    "executionInfo": {
     "elapsed": 20,
     "status": "ok",
     "timestamp": 1640594522252,
     "user": {
      "displayName": "Islombek Davronov",
      "photoUrl": "https://lh3.googleusercontent.com/a-/AOh14GhAh9Ro-vyEfOqZ8MulGMgaEcDpHtTbSkqU83Pw=s64",
      "userId": "05247046816000910520"
     },
     "user_tz": -300
    },
    "id": "WMBDy3aDqVJw",
    "outputId": "e86627e0-7c73-4af2-f633-02ace38b9c25"
   },
   "outputs": [
    {
     "data": {
      "text/plain": [
       "COFFEE_ROBUS    19.553220\n",
       "PLYWOOD         25.148615\n",
       "SUGAR_EU        25.568051\n",
       "SHRIMP_MEX      32.748724\n",
       "GRNUT           33.331818\n",
       "                  ...    \n",
       "PLATINUM        51.218950\n",
       "SORGHUM         51.295807\n",
       "SOYBEANS        51.739491\n",
       "CRUDE_PETRO     51.773764\n",
       "CRUDE_DUBAI     51.778762\n",
       "Length: 65, dtype: float64"
      ]
     },
     "execution_count": 32,
     "metadata": {},
     "output_type": "execute_result"
    }
   ],
   "source": [
    " corr_sum = df3.corr().sum()\n",
    " corr_sum.sort_values()"
   ]
  },
  {
   "cell_type": "markdown",
   "metadata": {
    "id": "-oHln_IUqyWb",
    "tags": []
   },
   "source": [
    "# 5 - Training Linier Regression Model "
   ]
  },
  {
   "cell_type": "markdown",
   "metadata": {
    "id": "c_S61B0tq-hX",
    "tags": []
   },
   "source": [
    "### 5.1 - \"X\" = Row data, \"Y\" = Target Data"
   ]
  },
  {
   "cell_type": "code",
   "execution_count": 33,
   "metadata": {
    "executionInfo": {
     "elapsed": 17,
     "status": "ok",
     "timestamp": 1640594522253,
     "user": {
      "displayName": "Islombek Davronov",
      "photoUrl": "https://lh3.googleusercontent.com/a-/AOh14GhAh9Ro-vyEfOqZ8MulGMgaEcDpHtTbSkqU83Pw=s64",
      "userId": "05247046816000910520"
     },
     "user_tz": -300
    },
    "id": "w44pZEroq4mY",
    "tags": []
   },
   "outputs": [],
   "source": [
    "y = df3['NGAS_EUR']"
   ]
  },
  {
   "cell_type": "code",
   "execution_count": 34,
   "metadata": {
    "colab": {
     "base_uri": "https://localhost:8080/"
    },
    "executionInfo": {
     "elapsed": 16,
     "status": "ok",
     "timestamp": 1640594522253,
     "user": {
      "displayName": "Islombek Davronov",
      "photoUrl": "https://lh3.googleusercontent.com/a-/AOh14GhAh9Ro-vyEfOqZ8MulGMgaEcDpHtTbSkqU83Pw=s64",
      "userId": "05247046816000910520"
     },
     "user_tz": -300
    },
    "id": "KAwqx_cbrIXM",
    "outputId": "dc83c91e-d86a-44a7-dedf-5a4e4641dbcf",
    "tags": []
   },
   "outputs": [
    {
     "data": {
      "text/plain": [
       "0    0.404774\n",
       "1    0.404774\n",
       "2    0.404774\n",
       "3    0.391351\n",
       "4    0.384150\n",
       "Name: NGAS_EUR, dtype: float64"
      ]
     },
     "execution_count": 34,
     "metadata": {},
     "output_type": "execute_result"
    }
   ],
   "source": [
    "y.head()"
   ]
  },
  {
   "cell_type": "code",
   "execution_count": 35,
   "metadata": {
    "executionInfo": {
     "elapsed": 12,
     "status": "ok",
     "timestamp": 1640594522254,
     "user": {
      "displayName": "Islombek Davronov",
      "photoUrl": "https://lh3.googleusercontent.com/a-/AOh14GhAh9Ro-vyEfOqZ8MulGMgaEcDpHtTbSkqU83Pw=s64",
      "userId": "05247046816000910520"
     },
     "user_tz": -300
    },
    "id": "6kRbEKw9rKIb"
   },
   "outputs": [],
   "source": [
    "X = df3.drop(['NGAS_EUR'], axis = 1, inplace = False)\n",
    "\n",
    "# inplace = False because this saves the original data in df3 but saves with\n",
    "# dropping targeted data in X variable"
   ]
  },
  {
   "cell_type": "code",
   "execution_count": 36,
   "metadata": {
    "colab": {
     "base_uri": "https://localhost:8080/",
     "height": 375
    },
    "executionInfo": {
     "elapsed": 12,
     "status": "ok",
     "timestamp": 1640594522254,
     "user": {
      "displayName": "Islombek Davronov",
      "photoUrl": "https://lh3.googleusercontent.com/a-/AOh14GhAh9Ro-vyEfOqZ8MulGMgaEcDpHtTbSkqU83Pw=s64",
      "userId": "05247046816000910520"
     },
     "user_tz": -300
    },
    "id": "_hNwbUUAry2g",
    "outputId": "32c1c8f3-3c44-45f1-ac87-c7b1de7ff7c6"
   },
   "outputs": [
    {
     "data": {
      "text/html": [
       "<div>\n",
       "<style scoped>\n",
       "    .dataframe tbody tr th:only-of-type {\n",
       "        vertical-align: middle;\n",
       "    }\n",
       "\n",
       "    .dataframe tbody tr th {\n",
       "        vertical-align: top;\n",
       "    }\n",
       "\n",
       "    .dataframe thead th {\n",
       "        text-align: right;\n",
       "    }\n",
       "</style>\n",
       "<table border=\"1\" class=\"dataframe\">\n",
       "  <thead>\n",
       "    <tr style=\"text-align: right;\">\n",
       "      <th></th>\n",
       "      <th>Unnamed: 0</th>\n",
       "      <th>CRUDE_PETRO</th>\n",
       "      <th>CRUDE_BRENT</th>\n",
       "      <th>CRUDE_DUBAI</th>\n",
       "      <th>CRUDE_WTI</th>\n",
       "      <th>COAL_AUS</th>\n",
       "      <th>COAL_SAFRICA</th>\n",
       "      <th>NGAS_US</th>\n",
       "      <th>NGAS_JP</th>\n",
       "      <th>iNATGAS</th>\n",
       "      <th>...</th>\n",
       "      <th>ALUMINUM</th>\n",
       "      <th>IRON_ORE</th>\n",
       "      <th>COPPER</th>\n",
       "      <th>LEAD</th>\n",
       "      <th>Tin</th>\n",
       "      <th>NICKEL</th>\n",
       "      <th>Zinc</th>\n",
       "      <th>GOLD</th>\n",
       "      <th>PLATINUM</th>\n",
       "      <th>SILVER</th>\n",
       "    </tr>\n",
       "  </thead>\n",
       "  <tbody>\n",
       "    <tr>\n",
       "      <th>0</th>\n",
       "      <td>1960.0</td>\n",
       "      <td>1.63</td>\n",
       "      <td>43.138715</td>\n",
       "      <td>1.63</td>\n",
       "      <td>42.682958</td>\n",
       "      <td>46.469205</td>\n",
       "      <td>50.797283</td>\n",
       "      <td>0.14</td>\n",
       "      <td>6.519738</td>\n",
       "      <td>3.624357</td>\n",
       "      <td>...</td>\n",
       "      <td>511.471832</td>\n",
       "      <td>11.42</td>\n",
       "      <td>678.755833</td>\n",
       "      <td>198.850000</td>\n",
       "      <td>2196.733333</td>\n",
       "      <td>1631.000000</td>\n",
       "      <td>246.191667</td>\n",
       "      <td>35.27</td>\n",
       "      <td>83.500000</td>\n",
       "      <td>0.913700</td>\n",
       "    </tr>\n",
       "    <tr>\n",
       "      <th>1</th>\n",
       "      <td>1961.0</td>\n",
       "      <td>1.57</td>\n",
       "      <td>43.138715</td>\n",
       "      <td>1.57</td>\n",
       "      <td>42.682958</td>\n",
       "      <td>46.469205</td>\n",
       "      <td>50.797283</td>\n",
       "      <td>0.15</td>\n",
       "      <td>6.519738</td>\n",
       "      <td>3.745790</td>\n",
       "      <td>...</td>\n",
       "      <td>511.471832</td>\n",
       "      <td>11.02</td>\n",
       "      <td>633.084167</td>\n",
       "      <td>176.975000</td>\n",
       "      <td>2449.891667</td>\n",
       "      <td>1711.000000</td>\n",
       "      <td>214.308333</td>\n",
       "      <td>35.25</td>\n",
       "      <td>83.500000</td>\n",
       "      <td>0.924442</td>\n",
       "    </tr>\n",
       "    <tr>\n",
       "      <th>2</th>\n",
       "      <td>1962.0</td>\n",
       "      <td>1.52</td>\n",
       "      <td>43.138715</td>\n",
       "      <td>1.52</td>\n",
       "      <td>42.682958</td>\n",
       "      <td>46.469205</td>\n",
       "      <td>50.797283</td>\n",
       "      <td>0.16</td>\n",
       "      <td>6.519738</td>\n",
       "      <td>3.867224</td>\n",
       "      <td>...</td>\n",
       "      <td>498.060392</td>\n",
       "      <td>11.01</td>\n",
       "      <td>645.143333</td>\n",
       "      <td>155.283333</td>\n",
       "      <td>2471.383333</td>\n",
       "      <td>1761.000000</td>\n",
       "      <td>185.925000</td>\n",
       "      <td>35.23</td>\n",
       "      <td>83.500000</td>\n",
       "      <td>1.083725</td>\n",
       "    </tr>\n",
       "    <tr>\n",
       "      <th>3</th>\n",
       "      <td>1963.0</td>\n",
       "      <td>1.50</td>\n",
       "      <td>43.138715</td>\n",
       "      <td>1.50</td>\n",
       "      <td>42.682958</td>\n",
       "      <td>46.469205</td>\n",
       "      <td>50.797283</td>\n",
       "      <td>0.16</td>\n",
       "      <td>6.519738</td>\n",
       "      <td>3.803412</td>\n",
       "      <td>...</td>\n",
       "      <td>498.795265</td>\n",
       "      <td>11.02</td>\n",
       "      <td>645.950833</td>\n",
       "      <td>174.808333</td>\n",
       "      <td>2507.733333</td>\n",
       "      <td>1741.666667</td>\n",
       "      <td>211.508333</td>\n",
       "      <td>35.09</td>\n",
       "      <td>80.930833</td>\n",
       "      <td>1.279108</td>\n",
       "    </tr>\n",
       "    <tr>\n",
       "      <th>4</th>\n",
       "      <td>1964.0</td>\n",
       "      <td>1.45</td>\n",
       "      <td>43.138715</td>\n",
       "      <td>1.45</td>\n",
       "      <td>42.682958</td>\n",
       "      <td>46.469205</td>\n",
       "      <td>50.797283</td>\n",
       "      <td>0.15</td>\n",
       "      <td>6.519738</td>\n",
       "      <td>3.647743</td>\n",
       "      <td>...</td>\n",
       "      <td>525.985631</td>\n",
       "      <td>10.24</td>\n",
       "      <td>969.753333</td>\n",
       "      <td>277.883333</td>\n",
       "      <td>3412.741667</td>\n",
       "      <td>1741.666667</td>\n",
       "      <td>326.491667</td>\n",
       "      <td>35.10</td>\n",
       "      <td>88.480833</td>\n",
       "      <td>1.293000</td>\n",
       "    </tr>\n",
       "  </tbody>\n",
       "</table>\n",
       "<p>5 rows × 64 columns</p>\n",
       "</div>"
      ],
      "text/plain": [
       "   Unnamed: 0  CRUDE_PETRO  CRUDE_BRENT  CRUDE_DUBAI  CRUDE_WTI   COAL_AUS  \\\n",
       "0      1960.0         1.63    43.138715         1.63  42.682958  46.469205   \n",
       "1      1961.0         1.57    43.138715         1.57  42.682958  46.469205   \n",
       "2      1962.0         1.52    43.138715         1.52  42.682958  46.469205   \n",
       "3      1963.0         1.50    43.138715         1.50  42.682958  46.469205   \n",
       "4      1964.0         1.45    43.138715         1.45  42.682958  46.469205   \n",
       "\n",
       "   COAL_SAFRICA  NGAS_US   NGAS_JP   iNATGAS  ...    ALUMINUM  IRON_ORE  \\\n",
       "0     50.797283     0.14  6.519738  3.624357  ...  511.471832     11.42   \n",
       "1     50.797283     0.15  6.519738  3.745790  ...  511.471832     11.02   \n",
       "2     50.797283     0.16  6.519738  3.867224  ...  498.060392     11.01   \n",
       "3     50.797283     0.16  6.519738  3.803412  ...  498.795265     11.02   \n",
       "4     50.797283     0.15  6.519738  3.647743  ...  525.985631     10.24   \n",
       "\n",
       "       COPPER        LEAD          Tin       NICKEL        Zinc   GOLD  \\\n",
       "0  678.755833  198.850000  2196.733333  1631.000000  246.191667  35.27   \n",
       "1  633.084167  176.975000  2449.891667  1711.000000  214.308333  35.25   \n",
       "2  645.143333  155.283333  2471.383333  1761.000000  185.925000  35.23   \n",
       "3  645.950833  174.808333  2507.733333  1741.666667  211.508333  35.09   \n",
       "4  969.753333  277.883333  3412.741667  1741.666667  326.491667  35.10   \n",
       "\n",
       "    PLATINUM    SILVER  \n",
       "0  83.500000  0.913700  \n",
       "1  83.500000  0.924442  \n",
       "2  83.500000  1.083725  \n",
       "3  80.930833  1.279108  \n",
       "4  88.480833  1.293000  \n",
       "\n",
       "[5 rows x 64 columns]"
      ]
     },
     "execution_count": 36,
     "metadata": {},
     "output_type": "execute_result"
    }
   ],
   "source": [
    "X.head()"
   ]
  },
  {
   "cell_type": "markdown",
   "metadata": {
    "id": "rs-52YpwsPFB"
   },
   "source": [
    "### 5.2 - Splitting Data into Train and Test"
   ]
  },
  {
   "cell_type": "code",
   "execution_count": 37,
   "metadata": {
    "executionInfo": {
     "elapsed": 473,
     "status": "ok",
     "timestamp": 1640594522716,
     "user": {
      "displayName": "Islombek Davronov",
      "photoUrl": "https://lh3.googleusercontent.com/a-/AOh14GhAh9Ro-vyEfOqZ8MulGMgaEcDpHtTbSkqU83Pw=s64",
      "userId": "05247046816000910520"
     },
     "user_tz": -300
    },
    "id": "oS5n1BAssbr0",
    "tags": []
   },
   "outputs": [],
   "source": [
    "# importing special package for spliting data \n",
    "from sklearn.model_selection import train_test_split"
   ]
  },
  {
   "cell_type": "code",
   "execution_count": 38,
   "metadata": {
    "executionInfo": {
     "elapsed": 22,
     "status": "ok",
     "timestamp": 1640594522717,
     "user": {
      "displayName": "Islombek Davronov",
      "photoUrl": "https://lh3.googleusercontent.com/a-/AOh14GhAh9Ro-vyEfOqZ8MulGMgaEcDpHtTbSkqU83Pw=s64",
      "userId": "05247046816000910520"
     },
     "user_tz": -300
    },
    "id": "Zw3kgasVsoET",
    "tags": []
   },
   "outputs": [],
   "source": [
    "X_train, X_test, y_train, y_test = train_test_split(X,y, test_size = 0.4, random_state=101)"
   ]
  },
  {
   "cell_type": "code",
   "execution_count": 39,
   "metadata": {
    "colab": {
     "base_uri": "https://localhost:8080/"
    },
    "executionInfo": {
     "elapsed": 21,
     "status": "ok",
     "timestamp": 1640594522717,
     "user": {
      "displayName": "Islombek Davronov",
      "photoUrl": "https://lh3.googleusercontent.com/a-/AOh14GhAh9Ro-vyEfOqZ8MulGMgaEcDpHtTbSkqU83Pw=s64",
      "userId": "05247046816000910520"
     },
     "user_tz": -300
    },
    "id": "l6iz8oUgs39T",
    "outputId": "1c8004c3-403e-46ee-9d0e-865a7825cc5c",
    "tags": []
   },
   "outputs": [
    {
     "name": "stdout",
     "output_type": "stream",
     "text": [
      "(36, 64) (24, 64)\n"
     ]
    }
   ],
   "source": [
    "print(X_train.shape, X_test.shape)"
   ]
  },
  {
   "cell_type": "code",
   "execution_count": 40,
   "metadata": {
    "colab": {
     "base_uri": "https://localhost:8080/"
    },
    "executionInfo": {
     "elapsed": 20,
     "status": "ok",
     "timestamp": 1640594522718,
     "user": {
      "displayName": "Islombek Davronov",
      "photoUrl": "https://lh3.googleusercontent.com/a-/AOh14GhAh9Ro-vyEfOqZ8MulGMgaEcDpHtTbSkqU83Pw=s64",
      "userId": "05247046816000910520"
     },
     "user_tz": -300
    },
    "id": "5uhlfbJ5s8ld",
    "outputId": "4b37bdfb-befe-40ca-87b9-6a1a57d45305",
    "tags": []
   },
   "outputs": [
    {
     "name": "stdout",
     "output_type": "stream",
     "text": [
      "(36,) (24,)\n"
     ]
    }
   ],
   "source": [
    "print(y_train.shape, y_test.shape)"
   ]
  },
  {
   "cell_type": "markdown",
   "metadata": {
    "id": "aBHqze9mtsLr",
    "tags": []
   },
   "source": [
    "# Finding out best Regression algorithm for prediction "
   ]
  },
  {
   "cell_type": "markdown",
   "metadata": {},
   "source": [
    "## LinearRegression"
   ]
  },
  {
   "cell_type": "code",
   "execution_count": 83,
   "metadata": {
    "executionInfo": {
     "elapsed": 16,
     "status": "ok",
     "timestamp": 1640594522718,
     "user": {
      "displayName": "Islombek Davronov",
      "photoUrl": "https://lh3.googleusercontent.com/a-/AOh14GhAh9Ro-vyEfOqZ8MulGMgaEcDpHtTbSkqU83Pw=s64",
      "userId": "05247046816000910520"
     },
     "user_tz": -300
    },
    "id": "qsZbbUOHtvuE",
    "tags": []
   },
   "outputs": [
    {
     "data": {
      "text/plain": [
       "array([-8.20720386e-03,  5.40736581e-03,  6.26342211e-03,  4.36866163e-03,\n",
       "        1.92504507e-02,  2.77933457e-02,  1.29960633e-02,  5.46226874e-05,\n",
       "        1.77711411e-03,  2.78215173e-02, -1.23942920e-03, -4.79588640e-03,\n",
       "       -9.11728431e-04, -1.13600060e-03, -9.52102534e-04, -1.60447789e-03,\n",
       "       -8.51289998e-04, -4.00198333e-03,  4.79049559e-03,  3.91182206e-05,\n",
       "       -3.90800443e-03,  3.25315201e-03, -2.96985093e-02,  6.71203667e-03,\n",
       "        2.19164637e-02, -1.72502057e-02,  9.97161626e-03,  7.29457553e-03,\n",
       "       -7.14911383e-04, -1.38686000e-02,  8.45605368e-03,  1.27550876e-02,\n",
       "        5.82676982e-04, -5.12176758e-04, -1.57058704e-04, -1.15440307e-03,\n",
       "       -5.87425118e-05, -1.06821936e-02, -9.58148327e-04, -2.76064897e-04,\n",
       "        2.82948518e-05,  7.68897958e-05,  1.06058013e-04, -2.13983407e-03,\n",
       "       -2.34522965e-03,  8.04203885e-03, -6.09395973e-03,  1.29764182e-03,\n",
       "        9.71236164e-04,  4.18289202e-04,  1.08832839e-02, -1.67185066e-02,\n",
       "        4.41364878e-03,  7.82850815e-03,  1.39113850e-03, -2.37237482e-02,\n",
       "       -4.11654979e-04, -1.44189267e-03,  9.39047696e-05,  6.64991178e-06,\n",
       "        1.05231193e-03, -2.28479039e-03,  2.33640632e-03, -6.14239541e-03])"
      ]
     },
     "execution_count": 83,
     "metadata": {},
     "output_type": "execute_result"
    }
   ],
   "source": [
    "from sklearn.linear_model import LinearRegression\n",
    "lm = LinearRegression()\n",
    "lm.fit(X_train, y_train)\n",
    "lm.intercept_\n",
    "lm.coef_"
   ]
  },
  {
   "cell_type": "code",
   "execution_count": 84,
   "metadata": {
    "colab": {
     "base_uri": "https://localhost:8080/",
     "height": 655
    },
    "executionInfo": {
     "elapsed": 370,
     "status": "ok",
     "timestamp": 1640594927666,
     "user": {
      "displayName": "Islombek Davronov",
      "photoUrl": "https://lh3.googleusercontent.com/a-/AOh14GhAh9Ro-vyEfOqZ8MulGMgaEcDpHtTbSkqU83Pw=s64",
      "userId": "05247046816000910520"
     },
     "user_tz": -300
    },
    "id": "i09AZxq5EWUl",
    "outputId": "2bd00931-a465-46a0-a06b-729f15baeb40",
    "tags": []
   },
   "outputs": [
    {
     "data": {
      "text/html": [
       "<div>\n",
       "<style scoped>\n",
       "    .dataframe tbody tr th:only-of-type {\n",
       "        vertical-align: middle;\n",
       "    }\n",
       "\n",
       "    .dataframe tbody tr th {\n",
       "        vertical-align: top;\n",
       "    }\n",
       "\n",
       "    .dataframe thead th {\n",
       "        text-align: right;\n",
       "    }\n",
       "</style>\n",
       "<table border=\"1\" class=\"dataframe\">\n",
       "  <thead>\n",
       "    <tr style=\"text-align: right;\">\n",
       "      <th></th>\n",
       "      <th>Coefficient</th>\n",
       "    </tr>\n",
       "  </thead>\n",
       "  <tbody>\n",
       "    <tr>\n",
       "      <th>Unnamed: 0</th>\n",
       "      <td>-0.008207</td>\n",
       "    </tr>\n",
       "    <tr>\n",
       "      <th>CRUDE_PETRO</th>\n",
       "      <td>0.005407</td>\n",
       "    </tr>\n",
       "    <tr>\n",
       "      <th>CRUDE_BRENT</th>\n",
       "      <td>0.006263</td>\n",
       "    </tr>\n",
       "    <tr>\n",
       "      <th>CRUDE_DUBAI</th>\n",
       "      <td>0.004369</td>\n",
       "    </tr>\n",
       "    <tr>\n",
       "      <th>CRUDE_WTI</th>\n",
       "      <td>0.019250</td>\n",
       "    </tr>\n",
       "    <tr>\n",
       "      <th>...</th>\n",
       "      <td>...</td>\n",
       "    </tr>\n",
       "    <tr>\n",
       "      <th>NICKEL</th>\n",
       "      <td>0.000007</td>\n",
       "    </tr>\n",
       "    <tr>\n",
       "      <th>Zinc</th>\n",
       "      <td>0.001052</td>\n",
       "    </tr>\n",
       "    <tr>\n",
       "      <th>GOLD</th>\n",
       "      <td>-0.002285</td>\n",
       "    </tr>\n",
       "    <tr>\n",
       "      <th>PLATINUM</th>\n",
       "      <td>0.002336</td>\n",
       "    </tr>\n",
       "    <tr>\n",
       "      <th>SILVER</th>\n",
       "      <td>-0.006142</td>\n",
       "    </tr>\n",
       "  </tbody>\n",
       "</table>\n",
       "<p>64 rows × 1 columns</p>\n",
       "</div>"
      ],
      "text/plain": [
       "             Coefficient\n",
       "Unnamed: 0     -0.008207\n",
       "CRUDE_PETRO     0.005407\n",
       "CRUDE_BRENT     0.006263\n",
       "CRUDE_DUBAI     0.004369\n",
       "CRUDE_WTI       0.019250\n",
       "...                  ...\n",
       "NICKEL          0.000007\n",
       "Zinc            0.001052\n",
       "GOLD           -0.002285\n",
       "PLATINUM        0.002336\n",
       "SILVER         -0.006142\n",
       "\n",
       "[64 rows x 1 columns]"
      ]
     },
     "execution_count": 84,
     "metadata": {},
     "output_type": "execute_result"
    }
   ],
   "source": [
    "coeff_df3 = pd.DataFrame(lm.coef_, X.columns, columns=['Coefficient'])\n",
    "coeff_df3"
   ]
  },
  {
   "cell_type": "code",
   "execution_count": 86,
   "metadata": {
    "colab": {
     "base_uri": "https://localhost:8080/",
     "height": 935
    },
    "executionInfo": {
     "elapsed": 663,
     "status": "ok",
     "timestamp": 1640595093990,
     "user": {
      "displayName": "Islombek Davronov",
      "photoUrl": "https://lh3.googleusercontent.com/a-/AOh14GhAh9Ro-vyEfOqZ8MulGMgaEcDpHtTbSkqU83Pw=s64",
      "userId": "05247046816000910520"
     },
     "user_tz": -300
    },
    "id": "UAJ3Yh40E-wj",
    "outputId": "7447bb30-2da9-4aac-c453-9f233fadb2f7",
    "tags": []
   },
   "outputs": [
    {
     "name": "stderr",
     "output_type": "stream",
     "text": [
      "/Users/Isco/opt/anaconda3/lib/python3.8/site-packages/seaborn/distributions.py:2557: FutureWarning: `distplot` is a deprecated function and will be removed in a future version. Please adapt your code to use either `displot` (a figure-level function with similar flexibility) or `histplot` (an axes-level function for histograms).\n",
      "  warnings.warn(msg, FutureWarning)\n"
     ]
    },
    {
     "data": {
      "text/plain": [
       "<AxesSubplot:ylabel='Density'>"
      ]
     },
     "execution_count": 86,
     "metadata": {},
     "output_type": "execute_result"
    },
    {
     "data": {
      "image/png": "[encoded data removed]",
      "text/plain": [
       "<Figure size 720x504 with 1 Axes>"
      ]
     },
     "metadata": {
      "needs_background": "light"
     },
     "output_type": "display_data"
    }
   ],
   "source": [
    "pyplot.subplots(figsize=(10,7))\n",
    "sns.distplot(coeff_df3)"
   ]
  },
  {
   "cell_type": "markdown",
   "metadata": {},
   "source": [
    "## Importing metrics "
   ]
  },
  {
   "cell_type": "code",
   "execution_count": 90,
   "metadata": {},
   "outputs": [],
   "source": [
    "from sklearn.metrics import mean_absolute_error\n",
    "from sklearn.metrics import mean_squared_error"
   ]
  },
  {
   "cell_type": "code",
   "execution_count": 179,
   "metadata": {},
   "outputs": [
    {
     "name": "stdout",
     "output_type": "stream",
     "text": [
      "MAE: 1.1150476792284978\n",
      "MSE 1.7933540946639395\n",
      "RMSE 1.3391617134102736\n"
     ]
    }
   ],
   "source": [
    "LinReg_pred = lm.predict(X_test)\n",
    "\n",
    "### Model Evaluation\n",
    "lin_MAE = metrics.mean_absolute_error(y_test, LinReg_pred)\n",
    "print('MAE:', metrics.mean_absolute_error(y_test, LinReg_pred))\n",
    "print(\"MSE\",mean_squared_error(y_test, LinReg_pred))\n",
    "print(\"RMSE\",np.sqrt(mean_squared_error(y_test, LinReg_pred)))"
   ]
  },
  {
   "cell_type": "markdown",
   "metadata": {
    "id": "naJavFWmFnMn"
   },
   "source": [
    "## DecisionTreeRegressor"
   ]
  },
  {
   "cell_type": "code",
   "execution_count": 182,
   "metadata": {},
   "outputs": [
    {
     "name": "stdout",
     "output_type": "stream",
     "text": [
      "MAE: 1.191416488375\n",
      "MSE 2.812082016700258\n",
      "RMSE 1.676926359951521\n"
     ]
    }
   ],
   "source": [
    "# Importing Decision Tree algorith \n",
    "\n",
    "from sklearn.tree import DecisionTreeRegressor\n",
    "regressor = DecisionTreeRegressor(random_state = 0)\n",
    "regressor.fit(X_train,y_train)\n",
    "Dectree_pred = regressor.predict(X_test)\n",
    "\n",
    "### Model Evaluation\n",
    "DecTree_MAE = metrics.mean_absolute_error(y_test, Dectree_pred)\n",
    "print('MAE:', metrics.mean_absolute_error(y_test, Dectree_pred))\n",
    "print(\"MSE\",mean_squared_error(y_test, Dectree_pred))\n",
    "print(\"RMSE\",np.sqrt(mean_squared_error(y_test, Dectree_pred)))"
   ]
  },
  {
   "cell_type": "markdown",
   "metadata": {},
   "source": [
    "## KNearestNeighbors "
   ]
  },
  {
   "cell_type": "code",
   "execution_count": 183,
   "metadata": {},
   "outputs": [
    {
     "name": "stdout",
     "output_type": "stream",
     "text": [
      "MAE: 0.9700869172916667\n",
      "MSE 1.6307500562863169\n",
      "RMSE 1.2770082444081232\n"
     ]
    }
   ],
   "source": [
    "# KNeighborsRegressor\n",
    "\n",
    "from sklearn.neighbors import KNeighborsRegressor \n",
    "knn = KNeighborsRegressor(n_neighbors=1)\n",
    "knn.fit(X_train, y_train)\n",
    "knn_pred = knn.predict(X_test)\n",
    "\n",
    "\n",
    "### Model Evaluation\n",
    "knn_MAE = metrics.mean_absolute_error(y_test, knn_pred)\n",
    "print('MAE:', metrics.mean_absolute_error(y_test, knn_pred))\n",
    "print(\"MSE\",mean_squared_error(y_test, knn_pred))\n",
    "print(\"RMSE\",np.sqrt(mean_squared_error(y_test, knn_pred)))"
   ]
  },
  {
   "cell_type": "markdown",
   "metadata": {},
   "source": [
    "## GradientBooster "
   ]
  },
  {
   "cell_type": "code",
   "execution_count": 184,
   "metadata": {},
   "outputs": [
    {
     "name": "stdout",
     "output_type": "stream",
     "text": [
      "MAE: 0.651618975656993\n",
      "MSE 1.0285535112690103\n",
      "RMSE 1.0141762722865342\n"
     ]
    }
   ],
   "source": [
    "## GradientBoostingRegressor \n",
    "\n",
    "from sklearn.ensemble import GradientBoostingRegressor\n",
    "gb = GradientBoostingRegressor()\n",
    "gb.fit(X_train, y_train)\n",
    "gb_pred = gb.predict(X_test)\n",
    "\n",
    "### Model Evaluation\n",
    "gb_MAE = metrics.mean_absolute_error(y_test, gb_pred)\n",
    "print('MAE:', metrics.mean_absolute_error(y_test, gb_pred))\n",
    "print(\"MSE\",mean_squared_error(y_test, gb_pred))\n",
    "print(\"RMSE\",np.sqrt(mean_squared_error(y_test, gb_pred)))"
   ]
  },
  {
   "cell_type": "markdown",
   "metadata": {},
   "source": [
    "## AdaBoostingRegressor"
   ]
  },
  {
   "cell_type": "code",
   "execution_count": 188,
   "metadata": {},
   "outputs": [
    {
     "name": "stdout",
     "output_type": "stream",
     "text": [
      "MAE: 0.6367618069139386\n",
      "MSE 0.8507962504118322\n",
      "RMSE 0.9223861720623484\n"
     ]
    }
   ],
   "source": [
    "## AdaBoostRegressor\n",
    "\n",
    "from sklearn.ensemble import AdaBoostRegressor\n",
    "ab = AdaBoostRegressor()\n",
    "ab.fit(X_train, y_train)\n",
    "Ada_pred = ab.predict(X_test)\n",
    "\n",
    "\n",
    "### Model Evaluation\n",
    "Ada_MAE = metrics.mean_absolute_error(y_test, Ada_pred)\n",
    "print('MAE:', metrics.mean_absolute_error(y_test, Ada_pred))\n",
    "print(\"MSE\",mean_squared_error(y_test, Ada_pred))\n",
    "print(\"RMSE\",np.sqrt(mean_squared_error(y_test, Ada_pred)))"
   ]
  },
  {
   "cell_type": "markdown",
   "metadata": {},
   "source": [
    "## ExtraTreeRegressor"
   ]
  },
  {
   "cell_type": "code",
   "execution_count": 244,
   "metadata": {
    "scrolled": true
   },
   "outputs": [
    {
     "name": "stdout",
     "output_type": "stream",
     "text": [
      "MAE: 0.4700080916308331\n",
      "MSE 0.5507602797248522\n",
      "RMSE 0.7421322521793889\n"
     ]
    }
   ],
   "source": [
    "## ExtraTreesRegressor\n",
    "from sklearn.ensemble import ExtraTreesRegressor\n",
    "ext = ExtraTreesRegressor(random_state=42)\n",
    "ext.fit(X_train, y_train)\n",
    "Extr_pred = ext.predict(X_test)\n",
    "\n",
    "### Model Evaluation\n",
    "extr_MAE = metrics.mean_absolute_error(y_test, Extr_pred)\n",
    "print('MAE:', metrics.mean_absolute_error(y_test, Extr_pred))\n",
    "print(\"MSE\",mean_squared_error(y_test, Extr_pred))\n",
    "print(\"RMSE\",np.sqrt(mean_squared_error(y_test, Extr_pred)))"
   ]
  },
  {
   "cell_type": "markdown",
   "metadata": {},
   "source": [
    "### Performance of each model "
   ]
  },
  {
   "cell_type": "code",
   "execution_count": 245,
   "metadata": {},
   "outputs": [
    {
     "data": {
      "image/png": "[encoded data removed]",
      "text/plain": [
       "<Figure size 2500x480 with 3 Axes>"
      ]
     },
     "metadata": {},
     "output_type": "display_data"
    },
    {
     "data": {
      "image/png": "[encoded data removed]",
      "text/plain": [
       "<Figure size 2500x480 with 3 Axes>"
      ]
     },
     "metadata": {},
     "output_type": "display_data"
    }
   ],
   "source": [
    "\n",
    "fig, (ax1, ax2, ax3) = plt.subplots(ncols=3, sharey=True) # dividing to subplot to gather all plots in one place \n",
    "\n",
    "#1  setting size of the graph\n",
    "fig.set_figwidth(25)\n",
    "\n",
    "# Plotting results in regplot with their given ID in one place\n",
    "sns.regplot(x=y_test, y=LinReg_pred, ci=None, color=\"green\", ax=ax1).set_title('Linear Regression')\n",
    "# Giving MAE to know which Model working more efficiently \n",
    "ax1.set(xlabel=f'MAE = {round(lin_MAE,2)} ')\n",
    "sns.regplot(x=y_test, y=Dectree_pred, ci=None, color=\"green\", ax=ax2).set_title('Decision Tree Regression')\n",
    "ax2.set(xlabel=f'MAE = {round(DecTree_MAE,2)} ')\n",
    "sns.regplot(x=y_test, y=knn_pred, ci=None, color=\"green\", ax=ax3).set_title('KNearest Neighbors Regression')\n",
    "ax3.set(xlabel=f'MAE = {round(knn_MAE,2)} ')\n",
    "#2\n",
    "for ax in fig.axes:\n",
    "    ax.tick_params(axis='y', labelleft=True)\n",
    "    \n",
    "# Could know find the way to divide 6 plots by 2 that is why writing again to plot at the bottom\n",
    "\n",
    "fig, (ax4, ax5, ax6) = plt.subplots(ncols=3, sharey=True)\n",
    "fig.set_figwidth(25)    \n",
    "sns.regplot(x=y_test, y=gb_pred, ci=None, color=\"green\", ax=ax4).set_title('Gradient Booster Regression')\n",
    "ax4.set(xlabel=f'MAE = {round(gb_MAE,2)} ')\n",
    "sns.regplot(x=y_test, y=Ada_pred, ci=None, color=\"green\", ax=ax5).set_title('AdaBooster Regression')\n",
    "ax5.set(xlabel=f'MAE = {round(Ada_MAE,2)} ')\n",
    "sns.regplot(x=y_test, y=Extr_pred, ci=None, color=\"green\", ax=ax6).set_title('Extra Tree Regression')\n",
    "ax6.set(xlabel=f'MAE = {round(extr_MAE,2)} ')\n",
    "for ax in fig.axes:\n",
    "    ax.tick_params(axis='y', labelleft=True)"
   ]
  },
  {
   "cell_type": "markdown",
   "metadata": {},
   "source": [
    "# Choosing Extra Tree Model \n",
    "     As we can see in shown graph and their Mean Absolute Errors, the best performing model is Extra Tree Regressor. SO, We get this model for tuning and setting its best hyperparameters. "
   ]
  },
  {
   "cell_type": "code",
   "execution_count": 327,
   "metadata": {},
   "outputs": [],
   "source": [
    "# Number of trees used in the boosting process\n",
    "n_estimators = [20, 40, 60, 80, 100]\n",
    "\n",
    "# Maximum depth of each tree\n",
    "max_depth = [2, 3, 5, 10, 15]\n",
    "\n",
    "# Minimum number of samples per leaf\n",
    "min_samples_leaf = [2, 4, 6, 8]\n",
    "\n",
    "# Minimum number of samples to split a node\n",
    "min_samples_split = [2, 4, 6, 10]\n",
    "\n",
    "# Maximum number of features to consider for making splits\n",
    "max_features = ['auto', 'sqrt', 'log2', None]\n",
    "\n",
    "# Define the grid of hyperparameters to search\n",
    "hyperparameter_grid = {'n_estimators': n_estimators,\n",
    "                       'max_depth': max_depth,\n",
    "                       'min_samples_leaf': min_samples_leaf,\n",
    "                       'min_samples_split': min_samples_split,\n",
    "                       'max_features': max_features}"
   ]
  },
  {
   "cell_type": "code",
   "execution_count": 263,
   "metadata": {},
   "outputs": [
    {
     "name": "stdout",
     "output_type": "stream",
     "text": [
      "Fitting 10 folds for each of 25 candidates, totalling 250 fits\n"
     ]
    },
    {
     "data": {
      "text/plain": [
       "ExtraTreesRegressor(max_depth=10, min_samples_leaf=2, min_samples_split=4,\n",
       "                    n_estimators=80)"
      ]
     },
     "execution_count": 263,
     "metadata": {},
     "output_type": "execute_result"
    }
   ],
   "source": [
    "from sklearn.model_selection import RandomizedSearchCV\n",
    "# Create the model to use for hyperparameter tuning\n",
    "model = ExtraTreesRegressor()\n",
    "\n",
    "# Set up the random search with 4-fold cross validation\n",
    "random_cv = RandomizedSearchCV(estimator=model,\n",
    "                               param_distributions=hyperparameter_grid,\n",
    "                               cv=10, n_iter=25, \n",
    "                               scoring = 'neg_mean_absolute_error',\n",
    "                               n_jobs = -1, verbose = 1, \n",
    "                               return_train_score = True,\n",
    "                               random_state=42)\n",
    "\n",
    "random_cv.fit(X_train, y_train) # finds best hyperparameter\n",
    "random_cv.best_estimator_ # saves them "
   ]
  },
  {
   "cell_type": "markdown",
   "metadata": {},
   "source": [
    "# Results with hyperparameters"
   ]
  },
  {
   "cell_type": "code",
   "execution_count": 326,
   "metadata": {},
   "outputs": [
    {
     "name": "stdout",
     "output_type": "stream",
     "text": [
      "MAE: 0.43492260378003617\n",
      "MSE 0.4698799852418933\n",
      "RMSE 0.6854779246933437\n"
     ]
    }
   ],
   "source": [
    "ext = ExtraTreesRegressor(max_depth=10, min_samples_leaf=2, min_samples_split=5,\n",
    "                    n_estimators=100,random_state=42)\n",
    "\n",
    "ext.fit(X_train, y_train)\n",
    "Extr_pred = ext.predict(X_test)\n",
    "\n",
    "### Model Evaluation\n",
    "extr_MAE = metrics.mean_absolute_error(y_test, Extr_pred)\n",
    "print('MAE:', metrics.mean_absolute_error(y_test, Extr_pred))\n",
    "print(\"MSE\",mean_squared_error(y_test, Extr_pred))\n",
    "print(\"RMSE\",np.sqrt(mean_squared_error(y_test, Extr_pred)))"
   ]
  },
  {
   "cell_type": "markdown",
   "metadata": {},
   "source": [
    "# Testing with the new dataset to predict Gas price for 2020"
   ]
  },
  {
   "cell_type": "code",
   "execution_count": 293,
   "metadata": {
    "executionInfo": {
     "elapsed": 349,
     "status": "ok",
     "timestamp": 1640596426112,
     "user": {
      "displayName": "Islombek Davronov",
      "photoUrl": "https://lh3.googleusercontent.com/a-/AOh14GhAh9Ro-vyEfOqZ8MulGMgaEcDpHtTbSkqU83Pw=s64",
      "userId": "05247046816000910520"
     },
     "user_tz": -300
    },
    "id": "k98djDO2JuF4"
   },
   "outputs": [],
   "source": [
    "X_new = pd.read_csv('test-data.csv')"
   ]
  },
  {
   "cell_type": "code",
   "execution_count": 294,
   "metadata": {
    "colab": {
     "base_uri": "https://localhost:8080/",
     "height": 159
    },
    "executionInfo": {
     "elapsed": 291,
     "status": "ok",
     "timestamp": 1640596431648,
     "user": {
      "displayName": "Islombek Davronov",
      "photoUrl": "https://lh3.googleusercontent.com/a-/AOh14GhAh9Ro-vyEfOqZ8MulGMgaEcDpHtTbSkqU83Pw=s64",
      "userId": "05247046816000910520"
     },
     "user_tz": -300
    },
    "id": "NWe0pbJwJ7x2",
    "outputId": "e7637caa-afc0-466f-eed2-993d2b4fb393"
   },
   "outputs": [
    {
     "data": {
      "text/html": [
       "<div>\n",
       "<style scoped>\n",
       "    .dataframe tbody tr th:only-of-type {\n",
       "        vertical-align: middle;\n",
       "    }\n",
       "\n",
       "    .dataframe tbody tr th {\n",
       "        vertical-align: top;\n",
       "    }\n",
       "\n",
       "    .dataframe thead th {\n",
       "        text-align: right;\n",
       "    }\n",
       "</style>\n",
       "<table border=\"1\" class=\"dataframe\">\n",
       "  <thead>\n",
       "    <tr style=\"text-align: right;\">\n",
       "      <th></th>\n",
       "      <th>Unnamed: 0</th>\n",
       "      <th>CRUDE_PETRO</th>\n",
       "      <th>CRUDE_BRENT</th>\n",
       "      <th>CRUDE_DUBAI</th>\n",
       "      <th>CRUDE_WTI</th>\n",
       "      <th>COAL_AUS</th>\n",
       "      <th>COAL_SAFRICA</th>\n",
       "      <th>NGAS_US</th>\n",
       "      <th>NGAS_JP</th>\n",
       "      <th>iNATGAS</th>\n",
       "      <th>...</th>\n",
       "      <th>ALUMINUM</th>\n",
       "      <th>IRON_ORE</th>\n",
       "      <th>COPPER</th>\n",
       "      <th>LEAD</th>\n",
       "      <th>Tin</th>\n",
       "      <th>NICKEL</th>\n",
       "      <th>Zinc</th>\n",
       "      <th>GOLD</th>\n",
       "      <th>PLATINUM</th>\n",
       "      <th>SILVER</th>\n",
       "    </tr>\n",
       "  </thead>\n",
       "  <tbody>\n",
       "    <tr>\n",
       "      <th>0</th>\n",
       "      <td>2020</td>\n",
       "      <td>41.257778</td>\n",
       "      <td>42.3</td>\n",
       "      <td>42.165</td>\n",
       "      <td>39.308333</td>\n",
       "      <td>60.785</td>\n",
       "      <td>65.656667</td>\n",
       "      <td>2.014375</td>\n",
       "      <td>8.313348</td>\n",
       "      <td>45.506044</td>\n",
       "      <td>...</td>\n",
       "      <td>1703.986667</td>\n",
       "      <td>108.918333</td>\n",
       "      <td>6173.770833</td>\n",
       "      <td>1824.880833</td>\n",
       "      <td>17124.59917</td>\n",
       "      <td>13787.25667</td>\n",
       "      <td>2266.449167</td>\n",
       "      <td>1770.254167</td>\n",
       "      <td>883.393333</td>\n",
       "      <td>20.536583</td>\n",
       "    </tr>\n",
       "  </tbody>\n",
       "</table>\n",
       "<p>1 rows × 69 columns</p>\n",
       "</div>"
      ],
      "text/plain": [
       "   Unnamed: 0  CRUDE_PETRO  CRUDE_BRENT  CRUDE_DUBAI  CRUDE_WTI  COAL_AUS  \\\n",
       "0        2020    41.257778         42.3       42.165  39.308333    60.785   \n",
       "\n",
       "   COAL_SAFRICA   NGAS_US   NGAS_JP    iNATGAS  ...     ALUMINUM    IRON_ORE  \\\n",
       "0     65.656667  2.014375  8.313348  45.506044  ...  1703.986667  108.918333   \n",
       "\n",
       "        COPPER         LEAD          Tin       NICKEL         Zinc  \\\n",
       "0  6173.770833  1824.880833  17124.59917  13787.25667  2266.449167   \n",
       "\n",
       "          GOLD    PLATINUM     SILVER  \n",
       "0  1770.254167  883.393333  20.536583  \n",
       "\n",
       "[1 rows x 69 columns]"
      ]
     },
     "execution_count": 294,
     "metadata": {},
     "output_type": "execute_result"
    }
   ],
   "source": [
    "X_new.head()"
   ]
  },
  {
   "cell_type": "code",
   "execution_count": 295,
   "metadata": {
    "executionInfo": {
     "elapsed": 389,
     "status": "ok",
     "timestamp": 1640596550498,
     "user": {
      "displayName": "Islombek Davronov",
      "photoUrl": "https://lh3.googleusercontent.com/a-/AOh14GhAh9Ro-vyEfOqZ8MulGMgaEcDpHtTbSkqU83Pw=s64",
      "userId": "05247046816000910520"
     },
     "user_tz": -300
    },
    "id": "i76lgyXtJ92d"
   },
   "outputs": [],
   "source": [
    "X_new['LAMB'] = means['LAMB']"
   ]
  },
  {
   "cell_type": "code",
   "execution_count": 296,
   "metadata": {
    "colab": {
     "base_uri": "https://localhost:8080/"
    },
    "executionInfo": {
     "elapsed": 5,
     "status": "ok",
     "timestamp": 1640596615925,
     "user": {
      "displayName": "Islombek Davronov",
      "photoUrl": "https://lh3.googleusercontent.com/a-/AOh14GhAh9Ro-vyEfOqZ8MulGMgaEcDpHtTbSkqU83Pw=s64",
      "userId": "05247046816000910520"
     },
     "user_tz": -300
    },
    "id": "I9A8r5O2LGuu",
    "outputId": "1f4b8825-dcc8-4b4f-aff9-2290bb4c809b"
   },
   "outputs": [
    {
     "data": {
      "text/plain": [
       "(1, 69)"
      ]
     },
     "execution_count": 296,
     "metadata": {},
     "output_type": "execute_result"
    }
   ],
   "source": [
    "X_new.shape"
   ]
  },
  {
   "cell_type": "code",
   "execution_count": 297,
   "metadata": {
    "executionInfo": {
     "elapsed": 282,
     "status": "ok",
     "timestamp": 1640596729428,
     "user": {
      "displayName": "Islombek Davronov",
      "photoUrl": "https://lh3.googleusercontent.com/a-/AOh14GhAh9Ro-vyEfOqZ8MulGMgaEcDpHtTbSkqU83Pw=s64",
      "userId": "05247046816000910520"
     },
     "user_tz": -300
    },
    "id": "UTqkGKSmLMil"
   },
   "outputs": [],
   "source": [
    "# in order to predict the values we need first to balance the colums of new data with model data \n",
    "\n",
    "X_new = X_new.drop(columns = list(missing_columns))"
   ]
  },
  {
   "cell_type": "code",
   "execution_count": 298,
   "metadata": {
    "colab": {
     "base_uri": "https://localhost:8080/"
    },
    "executionInfo": {
     "elapsed": 288,
     "status": "ok",
     "timestamp": 1640596737837,
     "user": {
      "displayName": "Islombek Davronov",
      "photoUrl": "https://lh3.googleusercontent.com/a-/AOh14GhAh9Ro-vyEfOqZ8MulGMgaEcDpHtTbSkqU83Pw=s64",
      "userId": "05247046816000910520"
     },
     "user_tz": -300
    },
    "id": "outiYf73LzX7",
    "outputId": "5edcc193-6ab2-49a3-9567-9d2472dd5818"
   },
   "outputs": [
    {
     "data": {
      "text/plain": [
       "(1, 64)"
      ]
     },
     "execution_count": 298,
     "metadata": {},
     "output_type": "execute_result"
    }
   ],
   "source": [
    "X_new.shape"
   ]
  },
  {
   "cell_type": "code",
   "execution_count": 62,
   "metadata": {
    "colab": {
     "base_uri": "https://localhost:8080/"
    },
    "executionInfo": {
     "elapsed": 300,
     "status": "ok",
     "timestamp": 1640596765556,
     "user": {
      "displayName": "Islombek Davronov",
      "photoUrl": "https://lh3.googleusercontent.com/a-/AOh14GhAh9Ro-vyEfOqZ8MulGMgaEcDpHtTbSkqU83Pw=s64",
      "userId": "05247046816000910520"
     },
     "user_tz": -300
    },
    "id": "1hGaea33L4ht",
    "outputId": "685fcbd8-802f-4227-dcbf-3320322fc69a"
   },
   "outputs": [
    {
     "name": "stdout",
     "output_type": "stream",
     "text": [
      "<class 'pandas.core.frame.DataFrame'>\n",
      "RangeIndex: 1 entries, 0 to 0\n",
      "Data columns (total 64 columns):\n",
      " #   Column         Non-Null Count  Dtype  \n",
      "---  ------         --------------  -----  \n",
      " 0   Unnamed: 0     1 non-null      int64  \n",
      " 1   CRUDE_PETRO    1 non-null      float64\n",
      " 2   CRUDE_BRENT    1 non-null      float64\n",
      " 3   CRUDE_DUBAI    1 non-null      float64\n",
      " 4   CRUDE_WTI      1 non-null      float64\n",
      " 5   COAL_AUS       1 non-null      float64\n",
      " 6   COAL_SAFRICA   1 non-null      float64\n",
      " 7   NGAS_US        1 non-null      float64\n",
      " 8   NGAS_JP        1 non-null      float64\n",
      " 9   iNATGAS        1 non-null      float64\n",
      " 10  COCOA          1 non-null      float64\n",
      " 11  COFFEE_ARABIC  1 non-null      float64\n",
      " 12  COFFEE_ROBUS   1 non-null      float64\n",
      " 13  TEA_AVG        1 non-null      float64\n",
      " 14  TEA_COLOMBO    1 non-null      float64\n",
      " 15  TEA_KOLKATA    1 non-null      float64\n",
      " 16  TEA_MOMBASA    1 non-null      float64\n",
      " 17  COCONUT_OIL    1 non-null      float64\n",
      " 18  GRNUT          1 non-null      float64\n",
      " 19  FISH_MEAL      1 non-null      float64\n",
      " 20  GRNUT_OIL      1 non-null      float64\n",
      " 21  PALM_OIL       1 non-null      float64\n",
      " 22  SOYBEANS       1 non-null      float64\n",
      " 23  SOYBEAN_OIL    1 non-null      float64\n",
      " 24  SOYBEAN_MEAL   1 non-null      float64\n",
      " 25  BARLEY         1 non-null      float64\n",
      " 26  MAIZE          1 non-null      float64\n",
      " 27  SORGHUM        1 non-null      float64\n",
      " 28  RICE_05        1 non-null      float64\n",
      " 29  RICE_25        1 non-null      float64\n",
      " 30  RICE_A1        1 non-null      float64\n",
      " 31  WHEAT_US_SRW   1 non-null      float64\n",
      " 32  WHEAT_US_HRW   1 non-null      float64\n",
      " 33  BANANA_US      1 non-null      float64\n",
      " 34  ORANGE         1 non-null      float64\n",
      " 35  BEEF           1 non-null      float64\n",
      " 36  CHICKEN        1 non-null      float64\n",
      " 37  LAMB           1 non-null      float64\n",
      " 38  SHRIMP_MEX     1 non-null      float64\n",
      " 39  SUGAR_EU       1 non-null      float64\n",
      " 40  SUGAR_US       1 non-null      float64\n",
      " 41  SUGAR_WLD      1 non-null      float64\n",
      " 42  TOBAC_US       1 non-null      float64\n",
      " 43  LOGS_CMR       1 non-null      float64\n",
      " 44  LOGS_MYS       1 non-null      float64\n",
      " 45  SAWNWD_MYS     1 non-null      float64\n",
      " 46  PLYWOOD        1 non-null      float64\n",
      " 47  COTTON_A_INDX  1 non-null      float64\n",
      " 48  RUBBER1_MYSG   1 non-null      float64\n",
      " 49  PHOSROCK       1 non-null      float64\n",
      " 50  DAP            1 non-null      float64\n",
      " 51  TSP            1 non-null      float64\n",
      " 52  UREA_EE_BULK   1 non-null      float64\n",
      " 53  POTASH         1 non-null      float64\n",
      " 54  ALUMINUM       1 non-null      float64\n",
      " 55  IRON_ORE       1 non-null      float64\n",
      " 56  COPPER         1 non-null      float64\n",
      " 57  LEAD           1 non-null      float64\n",
      " 58  Tin            1 non-null      float64\n",
      " 59  NICKEL         1 non-null      float64\n",
      " 60  Zinc           1 non-null      float64\n",
      " 61  GOLD           1 non-null      float64\n",
      " 62  PLATINUM       1 non-null      float64\n",
      " 63  SILVER         1 non-null      float64\n",
      "dtypes: float64(63), int64(1)\n",
      "memory usage: 640.0 bytes\n"
     ]
    }
   ],
   "source": [
    "X_new.info()"
   ]
  },
  {
   "cell_type": "code",
   "execution_count": 302,
   "metadata": {
    "executionInfo": {
     "elapsed": 287,
     "status": "ok",
     "timestamp": 1640596863048,
     "user": {
      "displayName": "Islombek Davronov",
      "photoUrl": "https://lh3.googleusercontent.com/a-/AOh14GhAh9Ro-vyEfOqZ8MulGMgaEcDpHtTbSkqU83Pw=s64",
      "userId": "05247046816000910520"
     },
     "user_tz": -300
    },
    "id": "4BM7glRXL_g0"
   },
   "outputs": [],
   "source": [
    "for c in list(X_new.columns):\n",
    "    X_new[c] = X_new[c].astype('float64')"
   ]
  },
  {
   "cell_type": "code",
   "execution_count": 338,
   "metadata": {
    "executionInfo": {
     "elapsed": 4,
     "status": "ok",
     "timestamp": 1640596894041,
     "user": {
      "displayName": "Islombek Davronov",
      "photoUrl": "https://lh3.googleusercontent.com/a-/AOh14GhAh9Ro-vyEfOqZ8MulGMgaEcDpHtTbSkqU83Pw=s64",
      "userId": "05247046816000910520"
     },
     "user_tz": -300
    },
    "id": "SN_MouXTMXQ5"
   },
   "outputs": [
    {
     "name": "stdout",
     "output_type": "stream",
     "text": [
      "MAE: 3.096079993515832\n"
     ]
    }
   ],
   "source": [
    "# extra Tree Regression\n",
    "pred_new = ext.predict(X_new)\n",
    "ORG_price = [3.24]\n",
    "\n",
    "print('MAE:', metrics.mean_absolute_error(ORG_price, pred_new))"
   ]
  },
  {
   "cell_type": "code",
   "execution_count": 339,
   "metadata": {},
   "outputs": [
    {
     "name": "stdout",
     "output_type": "stream",
     "text": [
      "MAE: 0.055848365556443014\n"
     ]
    }
   ],
   "source": [
    "# Linear Regression\n",
    "pred_new2 = lm.predict(X_new)\n",
    "ORG_price = [3.24]\n",
    "\n",
    "\n",
    "print('MAE:', metrics.mean_absolute_error(ORG_price, pred_new2))"
   ]
  },
  {
   "cell_type": "code",
   "execution_count": 340,
   "metadata": {},
   "outputs": [
    {
     "name": "stdout",
     "output_type": "stream",
     "text": [
      "MAE: 1.5623512659999994\n"
     ]
    }
   ],
   "source": [
    "# KNN Regression\n",
    "pred_new3 = knn.predict(X_new)\n",
    "ORG_price = [3.24]\n",
    "\n",
    "extr_MAE = metrics.mean_absolute_error(ORG_price, pred_new3)\n",
    "print('MAE:', extr_MAE)"
   ]
  },
  {
   "cell_type": "code",
   "execution_count": 341,
   "metadata": {},
   "outputs": [
    {
     "name": "stdout",
     "output_type": "stream",
     "text": [
      "MAE: 4.441679654\n"
     ]
    }
   ],
   "source": [
    "# Decision Tree \n",
    "\n",
    "pred_new4 = regressor.predict(X_new)\n",
    "ORG_price = [3.24]\n",
    "\n",
    "extr_MAE = metrics.mean_absolute_error(ORG_price, pred_new4)\n",
    "print('MAE:', extr_MAE)"
   ]
  },
  {
   "cell_type": "code",
   "execution_count": 342,
   "metadata": {},
   "outputs": [
    {
     "name": "stdout",
     "output_type": "stream",
     "text": [
      "MAE: 3.585750298155711\n"
     ]
    }
   ],
   "source": [
    "# Gradient Booster \n",
    "\n",
    "pred_new5 = gb.predict(X_new)\n",
    "ORG_price = [3.24]\n",
    "\n",
    "extr_MAE = metrics.mean_absolute_error(ORG_price, pred_new5)\n",
    "print('MAE:', extr_MAE)"
   ]
  },
  {
   "cell_type": "code",
   "execution_count": 343,
   "metadata": {},
   "outputs": [
    {
     "name": "stdout",
     "output_type": "stream",
     "text": [
      "MAE: 3.5811830779999996\n"
     ]
    }
   ],
   "source": [
    "# Ada Booster\n",
    "\n",
    "pred_new6 = ab.predict(X_new)\n",
    "ORG_price = [3.24]\n",
    "\n",
    "extr_MAE = metrics.mean_absolute_error(ORG_price, pred_new6)\n",
    "print('MAE:', extr_MAE)"
   ]
  },
  {
   "cell_type": "code",
   "execution_count": null,
   "metadata": {},
   "outputs": [],
   "source": []
  }
 ],
 "metadata": {
  "colab": {
   "authorship_tag": "ABX9TyPlO/UpV3YWCyz9SgfA7oRW",
   "collapsed_sections": [],
   "mount_file_id": "1-Syw09ZfPDaHYYDaq1JTUiINMHfOFP1g",
   "name": "NGAS_EU Predictions.ipynb",
   "provenance": []
  },
  "kernelspec": {
   "display_name": "Python 3",
   "language": "python",
   "name": "python3"
  },
  "language_info": {
   "codemirror_mode": {
    "name": "ipython",
    "version": 3
   },
   "file_extension": ".py",
   "mimetype": "text/x-python",
   "name": "python",
   "nbconvert_exporter": "python",
   "pygments_lexer": "ipython3",
   "version": "3.8.8"
  }
 },
 "nbformat": 4,
 "nbformat_minor": 4
}
